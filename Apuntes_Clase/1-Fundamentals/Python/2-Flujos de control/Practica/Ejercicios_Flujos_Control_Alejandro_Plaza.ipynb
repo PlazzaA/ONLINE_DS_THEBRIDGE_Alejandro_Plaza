{
 "cells": [
  {
   "cell_type": "markdown",
   "metadata": {},
   "source": [
    "![imagen](./img/ejercicios.png)"
   ]
  },
  {
   "cell_type": "markdown",
   "metadata": {},
   "source": [
    "# Ejercicios Flujos de control"
   ]
  },
  {
   "cell_type": "markdown",
   "metadata": {},
   "source": [
    "## Ejercicio 1\n",
    "Declara una variable numérica que será una hora cualquiera del día. Implementa la siguiente casuística:\n",
    "\n",
    "* Si es entre las 0 y las 8, print \"Durmiendo\"\n",
    "* Si es entre las 9 y las 18, print \"Trabajando\"\n",
    "* Si es entre las 19 y las 21, print \"Clase\"\n",
    "* Si es entre las 22 y las 24, print \"Descanso\"\n",
    "* En cualquier otro caso, print \"Transporte o error\""
   ]
  },
  {
   "cell_type": "code",
   "execution_count": null,
   "metadata": {},
   "outputs": [
    {
     "name": "stdout",
     "output_type": "stream",
     "text": [
      "\n",
      "\n",
      "\n",
      "\n",
      "Transporte o error\n"
     ]
    }
   ],
   "source": [
    "hora = input(\"¿Qué hora es?\")\n",
    "durmiendo = \"Durmiendo\" * (0 <= float(hora) <= 8)\n",
    "print(durmiendo)\n",
    "trabajando = \"Trabajando\" * (9 <= float(hora) <= 18)\n",
    "print(trabajando)\n",
    "clase = \"Clase\" * (19 <= float(hora) <= 21)\n",
    "print(clase)\n",
    "descanso = \"Descanso\" * (22 <= float(hora) < 24)\n",
    "print(descanso)\n",
    "errores = \"Transporte o error\" * (durmiendo != True and trabajando != True and clase != True and descanso != True)\n",
    "print(errores)"
   ]
  },
  {
   "cell_type": "code",
   "execution_count": null,
   "metadata": {},
   "outputs": [
    {
     "name": "stdout",
     "output_type": "stream",
     "text": [
      "Transporte o error\n"
     ]
    }
   ],
   "source": [
    "hora = input(\"¿Qué hora es?\")\n",
    "if 0 <= float(hora) <= 8:\n",
    "    print(\"Durmiendo\")\n",
    "elif 9 <= float(hora) <= 18:\n",
    "    print(\"Trabajando\")\n",
    "elif 19 <= float(hora) <= 21:\n",
    "    print(\"Clase\")\n",
    "elif 22 <= float(hora) < 24:\n",
    "    print(\"Descanso\")\n",
    "elif float(hora) < 0 or float(hora) >= 24:\n",
    "    print(\"hora error\")\n",
    "else:\n",
    "    print(\"Transporte o error\")"
   ]
  },
  {
   "cell_type": "markdown",
   "metadata": {},
   "source": [
    "## Ejercicio 2\n",
    "En este ejercicio vamos a implementar un calculador de precios de casas muy sencillo. Tenemos las siguientes variables:\n",
    "\n",
    "> superficie\n",
    ">\n",
    "> distrito\n",
    "\n",
    "Implementa la siguiente casuística:\n",
    "\n",
    "1. Si el distrito es \"Moncloa\" o \"Centro\", y además la superficie es superior a 100 metros cuadrados, el precio de la casa es de 1000\n",
    "2. Si el distrito es \"Salamanca\", y además la superficie de la casa es al menos de 150 metros, el precio de la casa es de 1500\n",
    "3. Si el distrito no es \"Retiro\" y la superficie está entre 60 y 80 metros, el precio es de 600\n",
    "4. En cualquier otro caso, el precio será de 0"
   ]
  },
  {
   "cell_type": "code",
   "execution_count": 38,
   "metadata": {},
   "outputs": [
    {
     "name": "stdout",
     "output_type": "stream",
     "text": [
      "\n",
      "\n",
      "\n",
      "No hay ningúna casa con esas especificaciones\n"
     ]
    }
   ],
   "source": [
    "superficie = input(\"Indique los metros de la superficie.\")\n",
    "distrito = input(\"Indique el distrito en el que se encuentra.\")\n",
    "cond_1 = \"El precio de la casa es 1000€\" * ((distrito == \"Moncloa\" or distrito == \"Centro\") and float(superficie) >= 100)\n",
    "print(cond_1)\n",
    "cond_2 = \"El precio de la casa es 1500€\" * (distrito == \"Salamanca\" and float(superficie) >= 150)\n",
    "print(cond_2)\n",
    "cond_3 = \"El precio de la casa es 600€\" * (distrito != \"Retiro\" and (60 <= float(superficie) <= 80))\n",
    "print(cond_3)\n",
    "cond_4 = \"No hay ningúna casa con esas especificaciones\" * (cond_1 != True and cond_2 != True and cond_3 != True)\n",
    "print(cond_4)"
   ]
  },
  {
   "cell_type": "code",
   "execution_count": null,
   "metadata": {},
   "outputs": [
    {
     "name": "stdout",
     "output_type": "stream",
     "text": [
      "No hay ninguna casa con esas especificaciones por lo que el precio es 0\n"
     ]
    }
   ],
   "source": [
    "superficie = input(\"Indique los metros de la superficie.\")\n",
    "distrito = input(\"Indique el distrito en el que se encuentra.\")\n",
    "if (distrito == \"Moncloa\" or distrito == \"Centro\") and float(superficie) >= 100:\n",
    "    print(\"El precio de la casa es de 1000€\")\n",
    "elif (distrito == \"Salamanca\" and float(superficie) >= 150):\n",
    "    print(\"El precio dela casa es de 1500€\")\n",
    "elif distrito != \"Retiro\" and (60 <= float(superficie) <= 80):\n",
    "    print(\"El precio de la casa es 600€\")\n",
    "else:\n",
    "    print(\"No hay ninguna casa con esas especificaciones por lo que el precio es 0\")\n",
    "\n",
    "# Se podría declarar la variable precio para poner un solo print al final del if."
   ]
  },
  {
   "cell_type": "markdown",
   "metadata": {},
   "source": [
    "## Ejercicio 3\n",
    "En este ejercicio vamos a realizar un programa muy parecido. Para este caso queremos que se cumplan las siguientes condiciones:\n",
    "\n",
    "1. Primero se compruebe si el distrito es \"Retiro\". Si es asá, que imprima \"Distrito Retiro\", y si no, \"Otro distrito\"\n",
    "2. Si el distrito es \"Retiro\", comprueba si la superficie es mayor de 100 metros cuadrados. En tal caso, que imprima un precio de 1000, y si no, de 500.\n",
    "\n",
    "Prueba a usar `ifs` anidados"
   ]
  },
  {
   "cell_type": "code",
   "execution_count": 51,
   "metadata": {},
   "outputs": [
    {
     "name": "stdout",
     "output_type": "stream",
     "text": [
      "Distrito Retiro El precio son 1000€\n",
      "\n"
     ]
    }
   ],
   "source": [
    "distrito = input(\"Indique aquí su distrito.\")\n",
    "superficie = input(\"Indique aquí la superficie de la casa.\")\n",
    "retiro = \"Distrito Retiro\" * (distrito == \"Retiro\") + \" \" + \"El precio son 1000€\" * (distrito == \"Retiro\" and float(superficie) >= 100) + \"El precio son 500€\" * (distrito == \"Retiro\" and float(superficie) < 100)\n",
    "otro = \"Otro distrito\" * (distrito != \"Retiro\")\n",
    "print(retiro)\n",
    "print(otro)"
   ]
  },
  {
   "cell_type": "code",
   "execution_count": 1,
   "metadata": {},
   "outputs": [
    {
     "name": "stdout",
     "output_type": "stream",
     "text": [
      "Distrito Retiro\n",
      "El precio sn 500€\n"
     ]
    }
   ],
   "source": [
    "distrito = input(\"Indique aquí su distrito.\")\n",
    "superficie = input(\"Indique aquí la superficie de la casa.\")\n",
    "if distrito == \"Retiro\":\n",
    "    print(\"Distrito Retiro\")\n",
    "    if float(superficie) > 100:\n",
    "        print(\"El precio son 1000€\")\n",
    "    else:\n",
    "        print(\"El precio sn 500€\")\n",
    "else:\n",
    "    print(\"Otro distrito.\")"
   ]
  },
  {
   "cell_type": "markdown",
   "metadata": {},
   "source": [
    "## Ejercicio 4\n",
    "Escribe un programa que tenga dos variables: un numero, y una lista numérica. El programa debe recorrer la lista e imprimir por pantalla cada elemento de la lista multiplicado por el número"
   ]
  },
  {
   "cell_type": "code",
   "execution_count": 71,
   "metadata": {},
   "outputs": [
    {
     "name": "stdout",
     "output_type": "stream",
     "text": [
      "5\n",
      "10\n",
      "15\n",
      "20\n",
      "[5, 10, 15, 20]\n"
     ]
    }
   ],
   "source": [
    "num = 5\n",
    "lista = [1, 2, 3, 4]\n",
    "nueva_lista = []\n",
    "for i in lista:\n",
    "    nueva_lista.append(i * num)\n",
    "    print(i * num)\n",
    "\n",
    "print(nueva_lista)"
   ]
  },
  {
   "cell_type": "markdown",
   "metadata": {},
   "source": [
    "## Ejercicio 5\n",
    "Imprime por pantalla cada número del -10 al -1. En ese orden. Consulta [la documentación](https://www.w3schools.com/python/ref_func_range.asp) de `range`"
   ]
  },
  {
   "cell_type": "code",
   "execution_count": null,
   "metadata": {},
   "outputs": [
    {
     "name": "stdout",
     "output_type": "stream",
     "text": [
      "-10\n",
      "-9\n",
      "-8\n",
      "-7\n",
      "-6\n",
      "-5\n",
      "-4\n",
      "-3\n",
      "-2\n",
      "-1\n"
     ]
    }
   ],
   "source": [
    "x = range(-10, 0)\n",
    "\n",
    "for i in x:\n",
    "    print(i)\n"
   ]
  },
  {
   "cell_type": "markdown",
   "metadata": {},
   "source": [
    "## Ejercicio 6\n",
    "Dada la siguiente lista:\n",
    "\n",
    "> list1 = [12, 15, 32, 42, 55, 75, 122, 132, 150, 180, 200]\n",
    "\n",
    "Implementa un programa que los recorra e imprima por pantalla todos los divisibles por 5. Si nos encontramos con alguno que sea mayor que 150, detener el bucle."
   ]
  },
  {
   "cell_type": "code",
   "execution_count": 4,
   "metadata": {},
   "outputs": [
    {
     "name": "stdout",
     "output_type": "stream",
     "text": [
      "15\n",
      "55\n",
      "75\n",
      "150\n"
     ]
    }
   ],
   "source": [
    "list1 = [12, 15, 32, 42, 55, 75, 122, 132, 150, 180, 200]\n",
    "for i in list1:\n",
    "    if (i % 5) == 0:\n",
    "        print(i)\n",
    "        if i >= 150:\n",
    "            break\n"
   ]
  },
  {
   "attachments": {},
   "cell_type": "markdown",
   "metadata": {},
   "source": [
    "## Ejercicio 7\n",
    "Escribe un programa en Python que imprima por pantalla todos los números que cumplan que sean divisibles por 5 y divisibles por 7, dentro del rango de valores (150, 350)."
   ]
  },
  {
   "cell_type": "code",
   "execution_count": 5,
   "metadata": {},
   "outputs": [
    {
     "name": "stdout",
     "output_type": "stream",
     "text": [
      "175\n",
      "210\n",
      "245\n",
      "280\n",
      "315\n",
      "350\n"
     ]
    }
   ],
   "source": [
    "x = range(150,351)\n",
    "for i in x:\n",
    "    if (i % 5) == 0 and (i % 7) == 0:\n",
    "        print(i) "
   ]
  },
  {
   "cell_type": "markdown",
   "metadata": {},
   "source": [
    "## Ejercicio 8\n",
    "Implementa un programa que imprima por pantalla el siguiente patrón\n",
    "\n",
    "5 4 3 2 1 \n",
    "\n",
    "4 3 2 1 \n",
    "\n",
    "3 2 1 \n",
    "\n",
    "2 1 \n",
    "\n",
    "1\n",
    "\n",
    "NOTA: NO hay lineas en blanco entre una línea y otra."
   ]
  },
  {
   "cell_type": "code",
   "execution_count": 85,
   "metadata": {},
   "outputs": [
    {
     "name": "stdout",
     "output_type": "stream",
     "text": [
      "5 4 3 2 1 \n",
      "4 3 2 1 \n",
      "3 2 1 \n",
      "2 1 \n",
      "1 \n"
     ]
    }
   ],
   "source": [
    "for i in range(5, 0, -1):\n",
    "    for u in range(i, 0, -1):\n",
    "        print(u, end= \" \")\n",
    "    print()"
   ]
  },
  {
   "cell_type": "code",
   "execution_count": 10,
   "metadata": {},
   "outputs": [
    {
     "name": "stdout",
     "output_type": "stream",
     "text": [
      "5 4 3 2 1\n",
      "4 3 2 1\n",
      "3 2 1\n",
      "2 1\n",
      "1\n"
     ]
    }
   ],
   "source": [
    "lista = list(range(5, 0, -1))\n",
    "print(*lista)\n",
    "print(*lista[1:])\n",
    "print(*lista[2:])\n",
    "print(*lista[3:])\n",
    "print(*lista[4:])"
   ]
  },
  {
   "cell_type": "markdown",
   "metadata": {},
   "source": [
    "## Ejercicio 9\n",
    "En este ejercicio vamos a crear un pequeño juego. Se trata de intentar adivinar un numero del 1 al 5. Tenemos dos intentos para acertar. Pasos a seguir:\n",
    "\n",
    "1. Ya viene implementado con la librería `random` cómo obtener un número aleatorio del 1 al 5\n",
    "2. Tendrás que declarar en una variable el numero de vidas, y mediante un bucle while, comprobar que todavia quedan vidas.\n",
    "3. Dentro del bucle, obtener el valor del usuario y comprobar si es ese el numero a adivinar. Si no, actualizar las vidas.\n",
    "4. Si acertamos, salimos del bucle e imprimimos por pantalla \"You win\". Y si perdemos también salimos del bucle, pero en este caso imprimimos por pantalla \"You lose\".\n",
    "\n",
    "TIP: te puede resultar útil usar la sentencia `else` cuando acabe el bucle `while`. Lo que haya dentro de ese `else` se ejecutará una vez acabe la ejecución del `while`. Lo podrás usar para cuando pierdas."
   ]
  },
  {
   "cell_type": "code",
   "execution_count": 25,
   "metadata": {},
   "outputs": [],
   "source": [
    "import random\n",
    "\n",
    "def jugar():\n",
    "    vidas = 2\n",
    "    aleatorio = random.randrange(1, 6)\n",
    "    while vidas > 0:\n",
    "        intento = input(\"Di tu número\")\n",
    "        # print(f\"el número es {aleatorio}\")\n",
    "        if int(intento) != aleatorio:\n",
    "            print(\"You lose.\")\n",
    "            vidas = vidas - 1\n",
    "            print(\"Te quedan\", vidas, \"vidas\")\n",
    "        elif int(intento) == aleatorio:\n",
    "            print(\"You win!\")\n",
    "            break\n",
    "        else:\n",
    "            print(f\"Has perdido todas las vidas. El número aleatorio era {aleatorio}\")\n",
    "\n",
    "    mensaje = input(\"Quiere jugar de nuevo? (S/N)\")\n",
    "    if mensaje == \"S\":\n",
    "        jugar()\n",
    "\n",
    "\n",
    "# Con una función (def), se podría hacer que el juego se vuelva a ejecutar\n"
   ]
  },
  {
   "cell_type": "code",
   "execution_count": 24,
   "metadata": {},
   "outputs": [
    {
     "name": "stdout",
     "output_type": "stream",
     "text": [
      "el número es 1\n",
      "You win!\n"
     ]
    }
   ],
   "source": [
    "jugar()"
   ]
  }
 ],
 "metadata": {
  "kernelspec": {
   "display_name": "Python 3",
   "language": "python",
   "name": "python3"
  },
  "language_info": {
   "codemirror_mode": {
    "name": "ipython",
    "version": 3
   },
   "file_extension": ".py",
   "mimetype": "text/x-python",
   "name": "python",
   "nbconvert_exporter": "python",
   "pygments_lexer": "ipython3",
   "version": "3.13.2"
  }
 },
 "nbformat": 4,
 "nbformat_minor": 4
}
