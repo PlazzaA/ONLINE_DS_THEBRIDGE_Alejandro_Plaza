{
 "cells": [
  {
   "cell_type": "markdown",
   "metadata": {},
   "source": [
    "![imagen](./img/ejercicios.png)"
   ]
  },
  {
   "cell_type": "markdown",
   "metadata": {},
   "source": [
    "# Ejercicios funciones\n",
    "## Ejercicio 1\n",
    "Escribe una función que convierta números del 1 al 7 en nombres de los dias de la semana. La función constará de un único argumento numérico y una salida de tipo string"
   ]
  },
  {
   "cell_type": "code",
   "execution_count": 1,
   "metadata": {},
   "outputs": [],
   "source": [
    "def dia_l(dia_n = int):\n",
    "    if dia_n == 1:\n",
    "        dia_n = \"Lunes\"\n",
    "    elif dia_n == 2:\n",
    "        dia_n = \"Martes\"\n",
    "    elif dia_n == 3:\n",
    "        dia_n = \"Miércoles\"\n",
    "    elif dia_n == 4:\n",
    "        dia_n = \"Jueves\"\n",
    "    elif dia_n == 5:\n",
    "        dia_n = \"Viernes\"\n",
    "    elif dia_n == 6:\n",
    "        dia_n = \"Sábado\"\n",
    "    elif dia_n == 7:\n",
    "        dia_n = \"Dominngo\"\n",
    "    else:\n",
    "        dia_n = \"Su día no existe\"\n",
    "    return dia_n\n",
    "\n",
    "# Probar con match \n",
    "#                case"
   ]
  },
  {
   "cell_type": "code",
   "execution_count": 7,
   "metadata": {},
   "outputs": [
    {
     "name": "stdout",
     "output_type": "stream",
     "text": [
      "Viernes\n"
     ]
    },
    {
     "data": {
      "text/plain": [
       "'Martes'"
      ]
     },
     "execution_count": 7,
     "metadata": {},
     "output_type": "execute_result"
    }
   ],
   "source": [
    "print(dia_l(5))\n",
    "dia_l(2)"
   ]
  },
  {
   "cell_type": "markdown",
   "metadata": {},
   "source": [
    "## Ejercicio 2\n",
    "En el ejercicio 8 de flujos de control, creábamos una pirámide invertida de números desde el 5. Crea una función que replique el comportamiento de la pirámide, y utiliza un único parámetro de entrada de la función para determinar el número de filas de la pirámide."
   ]
  },
  {
   "cell_type": "code",
   "execution_count": 4,
   "metadata": {},
   "outputs": [],
   "source": [
    "def piramide(niveles):\n",
    "    if niveles > 5:\n",
    "        print(\"Tu pirámide es demasiado grande\")\n",
    "        return\n",
    "    for i in range(niveles, 0, -1):\n",
    "            print(\"\" *(niveles - i), end=\"\")\n",
    "            for u in range(i, 0, -1):\n",
    "                print(u, end=\" \")\n",
    "        \n",
    "            print()"
   ]
  },
  {
   "cell_type": "code",
   "execution_count": 5,
   "metadata": {},
   "outputs": [
    {
     "name": "stdout",
     "output_type": "stream",
     "text": [
      "4 3 2 1 \n",
      "3 2 1 \n",
      "2 1 \n",
      "1 \n"
     ]
    }
   ],
   "source": [
    "piramide(4)"
   ]
  },
  {
   "cell_type": "markdown",
   "metadata": {},
   "source": [
    "## Ejercicio 3\n",
    "Escribe una función que compare dos números. La función tiene dos argumentos y hay tres salidas posibles: que sean iguales, que el primero sea  mayor que el segundo, o que el segundo sea mayor que el primero"
   ]
  },
  {
   "cell_type": "code",
   "execution_count": 47,
   "metadata": {},
   "outputs": [],
   "source": [
    "def compara(num_1 = int, num_2 = int):\n",
    "    try:\n",
    "        if num_1 == num_2:\n",
    "            print(\"Tus números son iguales\")\n",
    "        elif num_1 > num_2:\n",
    "            print(f\"Tu primer número: {num_1} es mayor que el segundo: {num_2}\")\n",
    "        elif num_1 < num_2:\n",
    "            print(f\"Tu primer número {num_1} es menor que elñ segundo: {num_2}\")\n",
    "    except:\n",
    "        print(\"Estas queriendo comarar churras con merinas\")\n",
    "    return print()"
   ]
  },
  {
   "cell_type": "code",
   "execution_count": 48,
   "metadata": {},
   "outputs": [
    {
     "name": "stdout",
     "output_type": "stream",
     "text": [
      "Tu primer número 2 es menor que elñ segundo: 4\n",
      "\n",
      "Tu primer número: 12398123 es mayor que el segundo: 9\n",
      "\n",
      "Tus números son iguales\n",
      "\n",
      "Estas queriendo comarar churras con merinas\n",
      "\n"
     ]
    }
   ],
   "source": [
    "compara(2, 4)\n",
    "compara(12398123, 9)\n",
    "compara(16, 16)\n",
    "compara(\"Hola\")"
   ]
  },
  {
   "attachments": {},
   "cell_type": "markdown",
   "metadata": {},
   "source": [
    "## Ejercicio 4\n",
    "Escribe una función que sea un contador de letras. En el primer argumento tienes que introducir un texto, y el segundo que sea una letra que contar. La función tiene que devolver un entero con el número de veces que aparece esa letra, tanto mayúscula, como minúscula"
   ]
  },
  {
   "cell_type": "code",
   "execution_count": 61,
   "metadata": {},
   "outputs": [],
   "source": [
    "def conteo(cadena= str, letra = str):\n",
    "    repeticion = 0\n",
    "    for i in cadena:\n",
    "        if i == letra:\n",
    "            repeticion = repeticion + 1\n",
    "    print(f\"La letra: {letra} se repite un total de {repeticion} veces\")\n",
    "    return print()"
   ]
  },
  {
   "cell_type": "code",
   "execution_count": 62,
   "metadata": {},
   "outputs": [
    {
     "name": "stdout",
     "output_type": "stream",
     "text": [
      "La letra: i se repite un total de 0 veces\n",
      "\n",
      "La letra: a se repite un total de 8 veces\n",
      "\n"
     ]
    }
   ],
   "source": [
    "conteo(\"Cadena de texto aaaaaa\", \"i\")\n",
    "conteo(\"Cadena de texto aaaaaa\", \"a\")"
   ]
  },
  {
   "cell_type": "markdown",
   "metadata": {},
   "source": [
    "## Ejercicio 5\n",
    "Escribe una función que tenga un único argumento, un string. La salida de la función tiene que ser un diccionario con el conteo de todas las letras de ese string, siendo la clave la letra y el valor el conteo."
   ]
  },
  {
   "cell_type": "code",
   "execution_count": 11,
   "metadata": {},
   "outputs": [],
   "source": [
    "def conteo_1(texto):\n",
    "    conteo = {}\n",
    "    for letra in texto:\n",
    "        if letra in conteo:\n",
    "            conteo[letra] = conteo[letra] + 1\n",
    "        else:\n",
    "            conteo[letra] = 1\n",
    "    print(conteo)"
   ]
  },
  {
   "cell_type": "code",
   "execution_count": 10,
   "metadata": {},
   "outputs": [
    {
     "name": "stdout",
     "output_type": "stream",
     "text": [
      "{'H': 1, 'o': 3, 'l': 1, 'a': 2, ' ': 2, 'c': 1, 'm': 1, 'e': 1, 's': 2, 't': 1}\n"
     ]
    }
   ],
   "source": [
    "conteo_1(\"Hola como estas\")"
   ]
  },
  {
   "cell_type": "markdown",
   "metadata": {},
   "source": [
    "## Ejercicio 6\n",
    "Escribir una función que añada o elimine elementos en una lista. La función necesita los siguientes argumentos:\n",
    "* lista: la lista donde se añadirán o eliminarán los elementos\n",
    "* comando: \"add\" o \"remove\"\n",
    "* elemento: Por defecto es None.\n",
    "\n",
    "Tendrá como salida la lista"
   ]
  },
  {
   "cell_type": "code",
   "execution_count": 84,
   "metadata": {},
   "outputs": [],
   "source": [
    "comida = [\"Filete\", \"Queso\", \"Jamón\", \"Croquetas\"]\n",
    "\n",
    "def mod_lista(lista, accion, valor=None):\n",
    "    if accion == \"añadir\":\n",
    "        if valor is not None:\n",
    "            lista.append(valor)\n",
    "        else:\n",
    "            print(\"Para añadir pon qué quieres añadir.\")\n",
    "    elif accion == \"borrar\":\n",
    "        if valor is not None:\n",
    "            if valor in lista:\n",
    "                lista.remove(valor)\n",
    "            else:\n",
    "                print(f\"No hay '{valor}' en la lista.\")\n",
    "        else:\n",
    "            print(\"Para borrar pon qué quieres borrar.\")\n",
    "    else:\n",
    "        print(\"Tienes que poner añadir o borrar.\")\n",
    "\n",
    "    return lista"
   ]
  },
  {
   "cell_type": "code",
   "execution_count": 85,
   "metadata": {},
   "outputs": [
    {
     "name": "stdout",
     "output_type": "stream",
     "text": [
      "No hay 'Panceta' en la lista.\n"
     ]
    },
    {
     "data": {
      "text/plain": [
       "['Filete', 'Queso', 'Jamón', 'Chorizo']"
      ]
     },
     "execution_count": 85,
     "metadata": {},
     "output_type": "execute_result"
    }
   ],
   "source": [
    "mod_lista(comida, \"borrar\", \"Panceta\")\n",
    "mod_lista(comida, \"añadir\", \"Chorizo\")\n",
    "mod_lista(comida, \"borrar\", \"Croquetas\")"
   ]
  },
  {
   "cell_type": "markdown",
   "metadata": {},
   "source": [
    "## Ejercicio 7\n",
    "Crea una función que reciba un número arbitrario de palabras, y devuelva una frase completa, separando las palabras con espacios."
   ]
  },
  {
   "cell_type": "code",
   "execution_count": null,
   "metadata": {},
   "outputs": [],
   "source": [
    "def frase(*palabras):\n",
    "    frase = \" \".join(palabras)\n",
    "    return frase"
   ]
  },
  {
   "cell_type": "code",
   "execution_count": 87,
   "metadata": {},
   "outputs": [
    {
     "data": {
      "text/plain": [
       "'Casa Hogar Domicilio'"
      ]
     },
     "execution_count": 87,
     "metadata": {},
     "output_type": "execute_result"
    }
   ],
   "source": [
    "frase(\"Casa\", \"Hogar\", \"Domicilio\")"
   ]
  },
  {
   "cell_type": "markdown",
   "metadata": {},
   "source": [
    "## Ejercicio 8\n",
    "Escribe un programa que obtenga el enésimo número de la [serie de Fibonacci](https://es.wikipedia.org/wiki/Sucesi%C3%B3n_de_Fibonacci). Tienes que crear una función recursiva con un único argumento.\n",
    "\n",
    "```Python\n",
    "fibonacci(2) = 1\n",
    "fibonacci(4) = 3\n",
    "fibonacci(5) = 5\n",
    "fibonacci(8) = 21\n",
    "```"
   ]
  },
  {
   "cell_type": "markdown",
   "metadata": {},
   "source": [
    "fibonacci(n) = fibonacci(n-1) + fibonacci(n-2)"
   ]
  },
  {
   "cell_type": "code",
   "execution_count": 12,
   "metadata": {},
   "outputs": [],
   "source": [
    "def fibonacci(n):\n",
    "    if n == 0:\n",
    "        return 0\n",
    "    elif n == 1:\n",
    "        return 1\n",
    "    else:\n",
    "        return fibonacci(n - 1) + fibonacci(n - 2)"
   ]
  },
  {
   "cell_type": "code",
   "execution_count": 19,
   "metadata": {},
   "outputs": [
    {
     "data": {
      "text/plain": [
       "21"
      ]
     },
     "execution_count": 19,
     "metadata": {},
     "output_type": "execute_result"
    }
   ],
   "source": [
    "fibonacci(8)"
   ]
  },
  {
   "attachments": {},
   "cell_type": "markdown",
   "metadata": {},
   "source": [
    "## Ejercicio 9\n",
    "Define en una única celda las siguientes funciones:\n",
    "* Función que calcule el área de un cuadrado\n",
    "* Función que calcule el área de un triángulo\n",
    "* Función que calcule el área de un círculo\n",
    "\n",
    "En otra celda, calcular el area de:\n",
    "* Dos círculos de radio 10 + un triángulo de base 3 y altura 7\n",
    "* Un cuadrado de lado = 10 + 3 círculos (uno de radio = 4 y los otros dos de radio = 6) + 5 triángulos de base = 2 + altura = 4"
   ]
  },
  {
   "cell_type": "code",
   "execution_count": 20,
   "metadata": {},
   "outputs": [],
   "source": [
    "def cuadrado(lado):\n",
    "    return lado * lado\n",
    "def triangulo(base, altura):\n",
    "    return (base * altura) / 2 \n",
    "def circulo(radio):\n",
    "    return (3.14 * (radio ** 2)) # importar math para usar math. pi 3,141592..."
   ]
  },
  {
   "cell_type": "code",
   "execution_count": 97,
   "metadata": {},
   "outputs": [
    {
     "name": "stdout",
     "output_type": "stream",
     "text": [
      "El área total de tus figuras es: 638.5\n",
      "El área total de tus figuras es: 396.32000000000005\n"
     ]
    }
   ],
   "source": [
    "area_1 = (2 * circulo(10)) + triangulo(3, 7)\n",
    "print(\"El área total de tus figuras es:\", area_1)\n",
    "area_2 = (cuadrado(10) + circulo(4) + (2 * circulo(6)) + (5 * triangulo(2, 4)))\n",
    "print(\"El área total de tus figuras es:\", area_2)"
   ]
  },
  {
   "cell_type": "markdown",
   "metadata": {},
   "source": [
    "## Ejercicio 10\n",
    "\n",
    "Guarda las funciones de estos ejercicios en un fichero llamado `funciones.py` e importalas desde este jupyter notebook para probar que puedes hacer uso de ellas."
   ]
  }
 ],
 "metadata": {
  "kernelspec": {
   "display_name": "Python 3",
   "language": "python",
   "name": "python3"
  },
  "language_info": {
   "codemirror_mode": {
    "name": "ipython",
    "version": 3
   },
   "file_extension": ".py",
   "mimetype": "text/x-python",
   "name": "python",
   "nbconvert_exporter": "python",
   "pygments_lexer": "ipython3",
   "version": "3.13.2"
  }
 },
 "nbformat": 4,
 "nbformat_minor": 4
}
