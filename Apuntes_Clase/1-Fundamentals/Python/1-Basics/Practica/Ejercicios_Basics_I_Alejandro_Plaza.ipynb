{
 "cells": [
  {
   "cell_type": "markdown",
   "metadata": {},
   "source": [
    "![imagen](./img/ejercicios.png)"
   ]
  },
  {
   "cell_type": "markdown",
   "metadata": {},
   "source": [
    "# Ejercicios Python Basics I"
   ]
  },
  {
   "cell_type": "markdown",
   "metadata": {},
   "source": [
    "## Ejercicio 0\n",
    "Imprime por pantalla esta cita con el siguiente formato\n",
    "\n",
    "![imagen](./img/frase_Einstein.PNG)"
   ]
  },
  {
   "cell_type": "code",
   "execution_count": 3,
   "metadata": {},
   "outputs": [
    {
     "name": "stdout",
     "output_type": "stream",
     "text": [
      "¿Por qué esta magnífica tecnología científica, \n",
      "\tque ahorra trabajo y nos hace la vida más fácil, \n",
      "\t\tnos aporta tan poca felicidad? \n",
      "\t\t\tLa respuesta es está, simplemente: porque aún no hemos aprendido a usarla con tino. \n",
      " \"Albert Einstein\"\n"
     ]
    }
   ],
   "source": [
    "print('¿Por qué esta magnífica tecnología científica, \\n\\tque ahorra trabajo y nos hace la vida más fácil, \\n\\t\\tnos aporta tan poca felicidad? \\n\\t\\t\\tLa respuesta es está, simplemente: porque aún no hemos aprendido a usarla con tino. \\n \"Albert Einstein\"')"
   ]
  },
  {
   "cell_type": "markdown",
   "metadata": {},
   "source": [
    "## Ejercicio 1\n",
    "1. Escribe el nombre de la calle de tu domicilio en una variable\n",
    "2. Escribe el numero de la calle en otra\n",
    "3. Ciudad en una tercera\n",
    "4. Codigo postal en la cuarta variable\n",
    "5. Imprime las 4 variables concatenadas por pantalla\n",
    "6. Crea una quinta variable que concatene todas ellas\n",
    "7. Imprímela por pantalla"
   ]
  },
  {
   "cell_type": "code",
   "execution_count": 7,
   "metadata": {},
   "outputs": [
    {
     "name": "stdout",
     "output_type": "stream",
     "text": [
      "Calle Sicilia2Madrid\n",
      "Calle Sicilia 2 Madrid\n"
     ]
    }
   ],
   "source": [
    "dom = \"Calle Sicilia\"\n",
    "num = 2\n",
    "ciudad = \"Madrid\"\n",
    "print(dom + str(num) + ciudad)\n",
    "concat = dom + \" \" + str(num) + \" \" + ciudad\n",
    "print(concat)"
   ]
  },
  {
   "cell_type": "markdown",
   "metadata": {},
   "source": [
    "## Ejercicio 2\n",
    "Repite el ejercicio 1, pero pidiendo estos datos al usuario mediante un input(), imprimiendo a continuación la dirección completa"
   ]
  },
  {
   "cell_type": "code",
   "execution_count": 8,
   "metadata": {},
   "outputs": [
    {
     "name": "stdout",
     "output_type": "stream",
     "text": [
      "Calle sicilia2Madrid\n",
      "Calle sicilia 2 Madrid\n"
     ]
    }
   ],
   "source": [
    "dom_u = input(\"Escribe aquí la calle de tu domicilio.\")\n",
    "num_u = input(\"Escribe aquí el número de tu domicilio\")\n",
    "ciudad_u = input(\"Escribe aquí la ciudad de tu domicilio\")\n",
    "print(dom_u + str(num_u) + ciudad_u)\n",
    "concat_u = dom_u + \" \" + str(num_u) + \" \" + ciudad\n",
    "print(concat_u)"
   ]
  },
  {
   "cell_type": "markdown",
   "metadata": {},
   "source": [
    "## Ejercicio 3\n",
    "¿Qué variables están mal escritas y por qué? Realiza primero tu hipótesis y luego ejecuta las variables para comprobarlo. En ese orden :)\n",
    "\n",
    "\n",
    "1. mi_variable = \"Economía\"\n",
    "2. otra_var = \"Ejercicio\n",
    "3. True = \"Ejercicio\"\n",
    "4. mi variab1e = \"Alpha\"\n",
    "5. import = 40\n",
    "6. 81mi_variable = \"Agua\"\n",
    "7. mi_variable10 = 6"
   ]
  },
  {
   "cell_type": "code",
   "execution_count": 9,
   "metadata": {},
   "outputs": [],
   "source": [
    "# La 2. está mal escrita ya que le falta el cierre decomillas\n",
    "# La 3. está mal escrita ya que True ya tiene un valor definido por el propio lenguaje (Es una palabra reservada)\n",
    "# La 4. está mal escrita ya que las variables no pueden estar declaradas mediante espacios\n",
    "# La 5. está mal escrita ya que al igual que True, import ya tiene un valor predefinido (Es una palabra reservada)\n",
    "# La 6. está mal escrita ya que las variables no pueden comenzar por un número\n",
    "mi_variable = \"Economía\"\n",
    "# otra_var = \"Ejercicio\n",
    "otra_var = \"Ejercicio\" # 2. bien escrita\n",
    "# True = \"Ejercicio\"\n",
    "verdad = \"Ejercicio\" # 3. bien escrita\n",
    "# mi variab1e = \"Alpha\"\n",
    "mi_variable = \"Alpha\" # 4. bien escrita, además sustituyendo el 1 por una l para evitar confusiones\n",
    "# import = 40\n",
    "importacion = 40 # 5. bien escrita\n",
    "# 81mi_variable = \"Agua\"\n",
    "mi_variable81 = \"Agua\" # 6. bien escrita\n",
    "mi_variable10 = 6"
   ]
  },
  {
   "cell_type": "markdown",
   "metadata": {},
   "source": [
    "## Ejercicio 4\n",
    "Realiza un conversor de grados Celsius a Fahrenheit. El conversor tiene que recibir el input del usuario y devolver la conversión.\n",
    "\n",
    "La conversión de grados sigue la siguiente fórmula: F = C × (9 / 5) + 32 "
   ]
  },
  {
   "cell_type": "code",
   "execution_count": 5,
   "metadata": {},
   "outputs": [
    {
     "name": "stdout",
     "output_type": "stream",
     "text": [
      "17,8 grados celsius equivalen a 64.03999999999999 grados fahrenheit\n"
     ]
    }
   ],
   "source": [
    "celsius = (input(\"Introduce tus grados\"))\n",
    "fahrenheit = float(celsius.replace(\",\", \".\")) * (9 / 5) + 32\n",
    "print(f\"{celsius} grados celsius equivalen a {fahrenheit} grados fahrenheit\")"
   ]
  },
  {
   "cell_type": "markdown",
   "metadata": {},
   "source": [
    "## Ejercicio 5\n",
    "Comenta  el Ejercicio 4. Pon un comentario multilinea y haz comentarios de cada linea de código. Indica cuál es el input y el output de tu código."
   ]
  },
  {
   "cell_type": "code",
   "execution_count": null,
   "metadata": {},
   "outputs": [],
   "source": [
    "\"\"\"\n",
    "celsius = input(\"Introduce tus grados\") -> El input de esta línea lo que hace es \n",
    "pedirle un valor al usuario y guardarlo en la variable celsius. El output de esta línea es el cuadro de texto\n",
    "en el que le pide los grados al usuario\n",
    "fahrenheit = int(celsius) * (9 / 5) + 32 -> el input de esta línea lo que hace es la conversión de celsius a \n",
    "fahrenheit y almacenar esos datos en la variable fahrenheit. Esta línea no tiene output \n",
    "ya que no muestra nada de lo que hace por pantalla\n",
    "print(f\"{celsius} grados celsius equivalen a {fahrenheit} grados fahrenheit\") -> e input de esta línea lo que hace es\n",
    "diferenciar que {celsius} y {fahrenheit} son variables y no son str a mostrar en pantalla. El output lo que hace es \n",
    "mostrar por pantalla el mensaje.\n",
    "\"\"\""
   ]
  }
 ],
 "metadata": {
  "kernelspec": {
   "display_name": "Python 3",
   "language": "python",
   "name": "python3"
  },
  "language_info": {
   "codemirror_mode": {
    "name": "ipython",
    "version": 3
   },
   "file_extension": ".py",
   "mimetype": "text/x-python",
   "name": "python",
   "nbconvert_exporter": "python",
   "pygments_lexer": "ipython3",
   "version": "3.13.2"
  },
  "nbTranslate": {
   "displayLangs": [
    "*"
   ],
   "hotkey": "alt-t",
   "langInMainMenu": true,
   "sourceLang": "en",
   "targetLang": "fr",
   "useGoogleTranslate": true
  },
  "varInspector": {
   "cols": {
    "lenName": 16,
    "lenType": 16,
    "lenVar": 40
   },
   "kernels_config": {
    "python": {
     "delete_cmd_postfix": "",
     "delete_cmd_prefix": "del ",
     "library": "var_list.py",
     "varRefreshCmd": "print(var_dic_list())"
    },
    "r": {
     "delete_cmd_postfix": ") ",
     "delete_cmd_prefix": "rm(",
     "library": "var_list.r",
     "varRefreshCmd": "cat(var_dic_list()) "
    }
   },
   "types_to_exclude": [
    "module",
    "function",
    "builtin_function_or_method",
    "instance",
    "_Feature"
   ],
   "window_display": false
  }
 },
 "nbformat": 4,
 "nbformat_minor": 4
}
