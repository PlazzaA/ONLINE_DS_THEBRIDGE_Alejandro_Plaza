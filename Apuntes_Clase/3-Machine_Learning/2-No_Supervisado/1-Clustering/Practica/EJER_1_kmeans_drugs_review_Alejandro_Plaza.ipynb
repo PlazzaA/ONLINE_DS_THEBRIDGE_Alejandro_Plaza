{
 "cells": [
  {
   "cell_type": "code",
   "execution_count": null,
   "metadata": {},
   "outputs": [],
   "source": [
    "import numpy as np\n",
    "import pandas as pd\n",
    "import matplotlib.pyplot as plt\n",
    "from sklearn.cluster import KMeans\n",
    "from sklearn.metrics import silhouette_score\n",
    "from sklearn.linear_model import LogisticRegression\n",
    "from sklearn.pipeline import Pipeline\n",
    "from sklearn.model_selection import RandomizedSearchCV\n",
    "from sklearn.preprocessing  import StandardScaler"
   ]
  },
  {
   "attachments": {},
   "cell_type": "markdown",
   "metadata": {},
   "source": [
    "### Importa los datos\n",
    "Dataset con diferentes fármacos, sus efectos y ratings de los clientes.\n",
    "\n",
    "Importa el dataset *drugLibTrain_raw.tsv*"
   ]
  },
  {
   "cell_type": "code",
   "execution_count": 6,
   "metadata": {},
   "outputs": [],
   "source": [
    "df = pd.read_csv('data/drugLibTrain_raw.tsv', sep = '\\t', index_col = 0)"
   ]
  },
  {
   "cell_type": "code",
   "execution_count": 8,
   "metadata": {},
   "outputs": [
    {
     "data": {
      "text/html": [
       "<div>\n",
       "<style scoped>\n",
       "    .dataframe tbody tr th:only-of-type {\n",
       "        vertical-align: middle;\n",
       "    }\n",
       "\n",
       "    .dataframe tbody tr th {\n",
       "        vertical-align: top;\n",
       "    }\n",
       "\n",
       "    .dataframe thead th {\n",
       "        text-align: right;\n",
       "    }\n",
       "</style>\n",
       "<table border=\"1\" class=\"dataframe\">\n",
       "  <thead>\n",
       "    <tr style=\"text-align: right;\">\n",
       "      <th></th>\n",
       "      <th>urlDrugName</th>\n",
       "      <th>rating</th>\n",
       "      <th>effectiveness</th>\n",
       "      <th>sideEffects</th>\n",
       "      <th>condition</th>\n",
       "      <th>benefitsReview</th>\n",
       "      <th>sideEffectsReview</th>\n",
       "      <th>commentsReview</th>\n",
       "    </tr>\n",
       "  </thead>\n",
       "  <tbody>\n",
       "    <tr>\n",
       "      <th>2202</th>\n",
       "      <td>enalapril</td>\n",
       "      <td>4</td>\n",
       "      <td>Highly Effective</td>\n",
       "      <td>Mild Side Effects</td>\n",
       "      <td>management of congestive heart failure</td>\n",
       "      <td>slowed the progression of left ventricular dys...</td>\n",
       "      <td>cough, hypotension , proteinuria, impotence , ...</td>\n",
       "      <td>monitor blood pressure , weight and asses for ...</td>\n",
       "    </tr>\n",
       "    <tr>\n",
       "      <th>3117</th>\n",
       "      <td>ortho-tri-cyclen</td>\n",
       "      <td>1</td>\n",
       "      <td>Highly Effective</td>\n",
       "      <td>Severe Side Effects</td>\n",
       "      <td>birth prevention</td>\n",
       "      <td>Although this type of birth control has more c...</td>\n",
       "      <td>Heavy Cycle, Cramps, Hot Flashes, Fatigue, Lon...</td>\n",
       "      <td>I Hate This Birth Control, I Would Not Suggest...</td>\n",
       "    </tr>\n",
       "    <tr>\n",
       "      <th>1146</th>\n",
       "      <td>ponstel</td>\n",
       "      <td>10</td>\n",
       "      <td>Highly Effective</td>\n",
       "      <td>No Side Effects</td>\n",
       "      <td>menstrual cramps</td>\n",
       "      <td>I was used to having cramps so badly that they...</td>\n",
       "      <td>Heavier bleeding and clotting than normal.</td>\n",
       "      <td>I took 2 pills at the onset of my menstrual cr...</td>\n",
       "    </tr>\n",
       "    <tr>\n",
       "      <th>3947</th>\n",
       "      <td>prilosec</td>\n",
       "      <td>3</td>\n",
       "      <td>Marginally Effective</td>\n",
       "      <td>Mild Side Effects</td>\n",
       "      <td>acid reflux</td>\n",
       "      <td>The acid reflux went away for a few months aft...</td>\n",
       "      <td>Constipation, dry mouth and some mild dizzines...</td>\n",
       "      <td>I was given Prilosec prescription at a dose of...</td>\n",
       "    </tr>\n",
       "    <tr>\n",
       "      <th>1951</th>\n",
       "      <td>lyrica</td>\n",
       "      <td>2</td>\n",
       "      <td>Marginally Effective</td>\n",
       "      <td>Severe Side Effects</td>\n",
       "      <td>fibromyalgia</td>\n",
       "      <td>I think that the Lyrica was starting to help w...</td>\n",
       "      <td>I felt extremely drugged and dopey.  Could not...</td>\n",
       "      <td>See above</td>\n",
       "    </tr>\n",
       "  </tbody>\n",
       "</table>\n",
       "</div>"
      ],
      "text/plain": [
       "           urlDrugName  rating         effectiveness          sideEffects  \\\n",
       "2202         enalapril       4      Highly Effective    Mild Side Effects   \n",
       "3117  ortho-tri-cyclen       1      Highly Effective  Severe Side Effects   \n",
       "1146           ponstel      10      Highly Effective      No Side Effects   \n",
       "3947          prilosec       3  Marginally Effective    Mild Side Effects   \n",
       "1951            lyrica       2  Marginally Effective  Severe Side Effects   \n",
       "\n",
       "                                   condition  \\\n",
       "2202  management of congestive heart failure   \n",
       "3117                        birth prevention   \n",
       "1146                        menstrual cramps   \n",
       "3947                             acid reflux   \n",
       "1951                            fibromyalgia   \n",
       "\n",
       "                                         benefitsReview  \\\n",
       "2202  slowed the progression of left ventricular dys...   \n",
       "3117  Although this type of birth control has more c...   \n",
       "1146  I was used to having cramps so badly that they...   \n",
       "3947  The acid reflux went away for a few months aft...   \n",
       "1951  I think that the Lyrica was starting to help w...   \n",
       "\n",
       "                                      sideEffectsReview  \\\n",
       "2202  cough, hypotension , proteinuria, impotence , ...   \n",
       "3117  Heavy Cycle, Cramps, Hot Flashes, Fatigue, Lon...   \n",
       "1146         Heavier bleeding and clotting than normal.   \n",
       "3947  Constipation, dry mouth and some mild dizzines...   \n",
       "1951  I felt extremely drugged and dopey.  Could not...   \n",
       "\n",
       "                                         commentsReview  \n",
       "2202  monitor blood pressure , weight and asses for ...  \n",
       "3117  I Hate This Birth Control, I Would Not Suggest...  \n",
       "1146  I took 2 pills at the onset of my menstrual cr...  \n",
       "3947  I was given Prilosec prescription at a dose of...  \n",
       "1951                                          See above  "
      ]
     },
     "execution_count": 8,
     "metadata": {},
     "output_type": "execute_result"
    }
   ],
   "source": [
    "df.head()"
   ]
  },
  {
   "attachments": {},
   "cell_type": "markdown",
   "metadata": {
    "colab_type": "text",
    "id": "OhaWDPt-8ZlT"
   },
   "source": [
    "### Descriptive Analysis"
   ]
  },
  {
   "attachments": {},
   "cell_type": "markdown",
   "metadata": {},
   "source": [
    "Quedate únicamente con las columnas que podamos manejar: Columnas numéricas y columnas categóricas con pocas categorías (menos de 10)"
   ]
  },
  {
   "cell_type": "code",
   "execution_count": 30,
   "metadata": {},
   "outputs": [
    {
     "name": "stdout",
     "output_type": "stream",
     "text": [
      "<class 'pandas.core.frame.DataFrame'>\n",
      "Int64Index: 3076 entries, 2202 to 2748\n",
      "Data columns (total 8 columns):\n",
      " #   Column             Non-Null Count  Dtype \n",
      "---  ------             --------------  ----- \n",
      " 0   urlDrugName        3076 non-null   object\n",
      " 1   rating             3076 non-null   int64 \n",
      " 2   effectiveness      3076 non-null   object\n",
      " 3   sideEffects        3076 non-null   object\n",
      " 4   condition          3075 non-null   object\n",
      " 5   benefitsReview     3076 non-null   object\n",
      " 6   sideEffectsReview  3074 non-null   object\n",
      " 7   commentsReview     3068 non-null   object\n",
      "dtypes: int64(1), object(7)\n",
      "memory usage: 216.3+ KB\n"
     ]
    }
   ],
   "source": [
    "df.info()"
   ]
  },
  {
   "cell_type": "code",
   "execution_count": 9,
   "metadata": {},
   "outputs": [
    {
     "data": {
      "text/plain": [
       "3031"
      ]
     },
     "execution_count": 9,
     "metadata": {},
     "output_type": "execute_result"
    }
   ],
   "source": [
    "df['benefitsReview'].nunique()"
   ]
  },
  {
   "cell_type": "code",
   "execution_count": 10,
   "metadata": {},
   "outputs": [
    {
     "data": {
      "text/plain": [
       "3046"
      ]
     },
     "execution_count": 10,
     "metadata": {},
     "output_type": "execute_result"
    }
   ],
   "source": [
    "df['commentsReview'].nunique()"
   ]
  },
  {
   "cell_type": "code",
   "execution_count": 11,
   "metadata": {},
   "outputs": [
    {
     "data": {
      "text/plain": [
       "1426"
      ]
     },
     "execution_count": 11,
     "metadata": {},
     "output_type": "execute_result"
    }
   ],
   "source": [
    "df['condition'].nunique()"
   ]
  },
  {
   "cell_type": "code",
   "execution_count": 13,
   "metadata": {},
   "outputs": [
    {
     "data": {
      "text/plain": [
       "5"
      ]
     },
     "execution_count": 13,
     "metadata": {},
     "output_type": "execute_result"
    }
   ],
   "source": [
    "df['effectiveness'].nunique()\n",
    "# válido"
   ]
  },
  {
   "cell_type": "code",
   "execution_count": 15,
   "metadata": {},
   "outputs": [
    {
     "data": {
      "text/plain": [
       "5"
      ]
     },
     "execution_count": 15,
     "metadata": {},
     "output_type": "execute_result"
    }
   ],
   "source": [
    "df['sideEffects'].nunique()\n",
    "# válido"
   ]
  },
  {
   "cell_type": "code",
   "execution_count": 16,
   "metadata": {},
   "outputs": [
    {
     "data": {
      "text/plain": [
       "2813"
      ]
     },
     "execution_count": 16,
     "metadata": {},
     "output_type": "execute_result"
    }
   ],
   "source": [
    "df['sideEffectsReview'].nunique()"
   ]
  },
  {
   "cell_type": "code",
   "execution_count": 17,
   "metadata": {},
   "outputs": [
    {
     "data": {
      "text/plain": [
       "502"
      ]
     },
     "execution_count": 17,
     "metadata": {},
     "output_type": "execute_result"
    }
   ],
   "source": [
    "df['urlDrugName'].nunique()"
   ]
  },
  {
   "cell_type": "code",
   "execution_count": 19,
   "metadata": {},
   "outputs": [],
   "source": [
    "df.drop(columns = ['benefitsReview', 'commentsReview', 'condition', 'sideEffectsReview', 'urlDrugName'], inplace = True)"
   ]
  },
  {
   "attachments": {},
   "cell_type": "markdown",
   "metadata": {},
   "source": [
    "#### Transforma las columnas categóricas\n",
    "\n",
    "Transforma las columnas categoricas a numericas mediante dummies"
   ]
  },
  {
   "cell_type": "code",
   "execution_count": 22,
   "metadata": {},
   "outputs": [],
   "source": [
    "df = pd.get_dummies(data = df, columns = ['effectiveness', 'sideEffects']).astype(int)"
   ]
  },
  {
   "cell_type": "code",
   "execution_count": 23,
   "metadata": {},
   "outputs": [
    {
     "data": {
      "text/html": [
       "<div>\n",
       "<style scoped>\n",
       "    .dataframe tbody tr th:only-of-type {\n",
       "        vertical-align: middle;\n",
       "    }\n",
       "\n",
       "    .dataframe tbody tr th {\n",
       "        vertical-align: top;\n",
       "    }\n",
       "\n",
       "    .dataframe thead th {\n",
       "        text-align: right;\n",
       "    }\n",
       "</style>\n",
       "<table border=\"1\" class=\"dataframe\">\n",
       "  <thead>\n",
       "    <tr style=\"text-align: right;\">\n",
       "      <th></th>\n",
       "      <th>rating</th>\n",
       "      <th>effectiveness_Considerably Effective</th>\n",
       "      <th>effectiveness_Highly Effective</th>\n",
       "      <th>effectiveness_Ineffective</th>\n",
       "      <th>effectiveness_Marginally Effective</th>\n",
       "      <th>effectiveness_Moderately Effective</th>\n",
       "      <th>sideEffects_Extremely Severe Side Effects</th>\n",
       "      <th>sideEffects_Mild Side Effects</th>\n",
       "      <th>sideEffects_Moderate Side Effects</th>\n",
       "      <th>sideEffects_No Side Effects</th>\n",
       "      <th>sideEffects_Severe Side Effects</th>\n",
       "    </tr>\n",
       "  </thead>\n",
       "  <tbody>\n",
       "    <tr>\n",
       "      <th>2202</th>\n",
       "      <td>4</td>\n",
       "      <td>0</td>\n",
       "      <td>1</td>\n",
       "      <td>0</td>\n",
       "      <td>0</td>\n",
       "      <td>0</td>\n",
       "      <td>0</td>\n",
       "      <td>1</td>\n",
       "      <td>0</td>\n",
       "      <td>0</td>\n",
       "      <td>0</td>\n",
       "    </tr>\n",
       "    <tr>\n",
       "      <th>3117</th>\n",
       "      <td>1</td>\n",
       "      <td>0</td>\n",
       "      <td>1</td>\n",
       "      <td>0</td>\n",
       "      <td>0</td>\n",
       "      <td>0</td>\n",
       "      <td>0</td>\n",
       "      <td>0</td>\n",
       "      <td>0</td>\n",
       "      <td>0</td>\n",
       "      <td>1</td>\n",
       "    </tr>\n",
       "    <tr>\n",
       "      <th>1146</th>\n",
       "      <td>10</td>\n",
       "      <td>0</td>\n",
       "      <td>1</td>\n",
       "      <td>0</td>\n",
       "      <td>0</td>\n",
       "      <td>0</td>\n",
       "      <td>0</td>\n",
       "      <td>0</td>\n",
       "      <td>0</td>\n",
       "      <td>1</td>\n",
       "      <td>0</td>\n",
       "    </tr>\n",
       "    <tr>\n",
       "      <th>3947</th>\n",
       "      <td>3</td>\n",
       "      <td>0</td>\n",
       "      <td>0</td>\n",
       "      <td>0</td>\n",
       "      <td>1</td>\n",
       "      <td>0</td>\n",
       "      <td>0</td>\n",
       "      <td>1</td>\n",
       "      <td>0</td>\n",
       "      <td>0</td>\n",
       "      <td>0</td>\n",
       "    </tr>\n",
       "    <tr>\n",
       "      <th>1951</th>\n",
       "      <td>2</td>\n",
       "      <td>0</td>\n",
       "      <td>0</td>\n",
       "      <td>0</td>\n",
       "      <td>1</td>\n",
       "      <td>0</td>\n",
       "      <td>0</td>\n",
       "      <td>0</td>\n",
       "      <td>0</td>\n",
       "      <td>0</td>\n",
       "      <td>1</td>\n",
       "    </tr>\n",
       "  </tbody>\n",
       "</table>\n",
       "</div>"
      ],
      "text/plain": [
       "      rating  effectiveness_Considerably Effective  \\\n",
       "2202       4                                     0   \n",
       "3117       1                                     0   \n",
       "1146      10                                     0   \n",
       "3947       3                                     0   \n",
       "1951       2                                     0   \n",
       "\n",
       "      effectiveness_Highly Effective  effectiveness_Ineffective  \\\n",
       "2202                               1                          0   \n",
       "3117                               1                          0   \n",
       "1146                               1                          0   \n",
       "3947                               0                          0   \n",
       "1951                               0                          0   \n",
       "\n",
       "      effectiveness_Marginally Effective  effectiveness_Moderately Effective  \\\n",
       "2202                                   0                                   0   \n",
       "3117                                   0                                   0   \n",
       "1146                                   0                                   0   \n",
       "3947                                   1                                   0   \n",
       "1951                                   1                                   0   \n",
       "\n",
       "      sideEffects_Extremely Severe Side Effects  \\\n",
       "2202                                          0   \n",
       "3117                                          0   \n",
       "1146                                          0   \n",
       "3947                                          0   \n",
       "1951                                          0   \n",
       "\n",
       "      sideEffects_Mild Side Effects  sideEffects_Moderate Side Effects  \\\n",
       "2202                              1                                  0   \n",
       "3117                              0                                  0   \n",
       "1146                              0                                  0   \n",
       "3947                              1                                  0   \n",
       "1951                              0                                  0   \n",
       "\n",
       "      sideEffects_No Side Effects  sideEffects_Severe Side Effects  \n",
       "2202                            0                                0  \n",
       "3117                            0                                1  \n",
       "1146                            1                                0  \n",
       "3947                            0                                0  \n",
       "1951                            0                                1  "
      ]
     },
     "execution_count": 23,
     "metadata": {},
     "output_type": "execute_result"
    }
   ],
   "source": [
    "df.head()"
   ]
  },
  {
   "attachments": {},
   "cell_type": "markdown",
   "metadata": {
    "colab_type": "text",
    "id": "HtBmwGdNnUGf"
   },
   "source": [
    "#### Evalua cual es la mejor K\n",
    "\n",
    "Utiliza silhouette_score para evaluar cual es la mejor K."
   ]
  },
  {
   "attachments": {},
   "cell_type": "markdown",
   "metadata": {},
   "source": [
    "#### Genera el K Means "
   ]
  },
  {
   "cell_type": "code",
   "execution_count": 71,
   "metadata": {},
   "outputs": [],
   "source": [
    "pipeline = Pipeline([\n",
    "    ('scaler', StandardScaler()),\n",
    "    ('kmeans', KMeans(random_state=42, n_init=10))\n",
    "])\n",
    "\n",
    "param_dist = {\n",
    "    'kmeans__n_clusters': range(2, 21)\n",
    "}"
   ]
  },
  {
   "cell_type": "code",
   "execution_count": 72,
   "metadata": {},
   "outputs": [],
   "source": [
    "search = RandomizedSearchCV(\n",
    "    estimator = pipeline, \n",
    "    param_distributions=param_dist, \n",
    "    n_iter = 10,\n",
    "    cv=2\n",
    ")\n",
    "\n",
    "search.fit(df)\n",
    "results = pd.DataFrame(search.cv_results_)\n",
    "results = results.sort_values(by='param_kmeans__n_clusters')"
   ]
  },
  {
   "cell_type": "code",
   "execution_count": 79,
   "metadata": {},
   "outputs": [
    {
     "data": {
      "text/plain": [
       "17"
      ]
     },
     "execution_count": 79,
     "metadata": {},
     "output_type": "execute_result"
    }
   ],
   "source": [
    "optimal_k = search.best_params_['kmeans__n_clusters']\n",
    "optimal_k"
   ]
  },
  {
   "attachments": {},
   "cell_type": "markdown",
   "metadata": {},
   "source": [
    "Comprueba los resultados y muestra en un pie plot la distribución de los distintos clusters."
   ]
  },
  {
   "cell_type": "code",
   "execution_count": null,
   "metadata": {},
   "outputs": [
    {
     "data": {
      "text/html": [
       "<div>\n",
       "<style scoped>\n",
       "    .dataframe tbody tr th:only-of-type {\n",
       "        vertical-align: middle;\n",
       "    }\n",
       "\n",
       "    .dataframe tbody tr th {\n",
       "        vertical-align: top;\n",
       "    }\n",
       "\n",
       "    .dataframe thead th {\n",
       "        text-align: right;\n",
       "    }\n",
       "</style>\n",
       "<table border=\"1\" class=\"dataframe\">\n",
       "  <thead>\n",
       "    <tr style=\"text-align: right;\">\n",
       "      <th></th>\n",
       "      <th>mean_fit_time</th>\n",
       "      <th>std_fit_time</th>\n",
       "      <th>mean_score_time</th>\n",
       "      <th>std_score_time</th>\n",
       "      <th>param_kmeans__n_clusters</th>\n",
       "      <th>params</th>\n",
       "      <th>split0_test_score</th>\n",
       "      <th>split1_test_score</th>\n",
       "      <th>mean_test_score</th>\n",
       "      <th>std_test_score</th>\n",
       "      <th>rank_test_score</th>\n",
       "    </tr>\n",
       "  </thead>\n",
       "  <tbody>\n",
       "    <tr>\n",
       "      <th>6</th>\n",
       "      <td>0.039488</td>\n",
       "      <td>0.006625</td>\n",
       "      <td>0.003230</td>\n",
       "      <td>7.987022e-06</td>\n",
       "      <td>3</td>\n",
       "      <td>{'kmeans__n_clusters': 3}</td>\n",
       "      <td>-11441.039844</td>\n",
       "      <td>-12390.744819</td>\n",
       "      <td>-11915.892332</td>\n",
       "      <td>474.852488</td>\n",
       "      <td>10</td>\n",
       "    </tr>\n",
       "    <tr>\n",
       "      <th>9</th>\n",
       "      <td>0.037643</td>\n",
       "      <td>0.001273</td>\n",
       "      <td>0.003136</td>\n",
       "      <td>2.307892e-04</td>\n",
       "      <td>5</td>\n",
       "      <td>{'kmeans__n_clusters': 5}</td>\n",
       "      <td>-7926.381356</td>\n",
       "      <td>-8933.233633</td>\n",
       "      <td>-8429.807494</td>\n",
       "      <td>503.426139</td>\n",
       "      <td>9</td>\n",
       "    </tr>\n",
       "    <tr>\n",
       "      <th>0</th>\n",
       "      <td>0.062549</td>\n",
       "      <td>0.014294</td>\n",
       "      <td>0.004026</td>\n",
       "      <td>3.553629e-04</td>\n",
       "      <td>7</td>\n",
       "      <td>{'kmeans__n_clusters': 7}</td>\n",
       "      <td>-5868.237758</td>\n",
       "      <td>-6002.016799</td>\n",
       "      <td>-5935.127279</td>\n",
       "      <td>66.889520</td>\n",
       "      <td>8</td>\n",
       "    </tr>\n",
       "    <tr>\n",
       "      <th>2</th>\n",
       "      <td>0.038217</td>\n",
       "      <td>0.000668</td>\n",
       "      <td>0.003658</td>\n",
       "      <td>1.575947e-04</td>\n",
       "      <td>10</td>\n",
       "      <td>{'kmeans__n_clusters': 10}</td>\n",
       "      <td>-3217.179746</td>\n",
       "      <td>-3390.634542</td>\n",
       "      <td>-3303.907144</td>\n",
       "      <td>86.727398</td>\n",
       "      <td>7</td>\n",
       "    </tr>\n",
       "    <tr>\n",
       "      <th>8</th>\n",
       "      <td>0.042485</td>\n",
       "      <td>0.003193</td>\n",
       "      <td>0.003305</td>\n",
       "      <td>2.384186e-07</td>\n",
       "      <td>12</td>\n",
       "      <td>{'kmeans__n_clusters': 12}</td>\n",
       "      <td>-2467.474563</td>\n",
       "      <td>-2572.775147</td>\n",
       "      <td>-2520.124855</td>\n",
       "      <td>52.650292</td>\n",
       "      <td>6</td>\n",
       "    </tr>\n",
       "    <tr>\n",
       "      <th>7</th>\n",
       "      <td>0.041953</td>\n",
       "      <td>0.000949</td>\n",
       "      <td>0.003688</td>\n",
       "      <td>1.670122e-04</td>\n",
       "      <td>13</td>\n",
       "      <td>{'kmeans__n_clusters': 13}</td>\n",
       "      <td>-2145.763850</td>\n",
       "      <td>-2225.461168</td>\n",
       "      <td>-2185.612509</td>\n",
       "      <td>39.848659</td>\n",
       "      <td>5</td>\n",
       "    </tr>\n",
       "    <tr>\n",
       "      <th>3</th>\n",
       "      <td>0.044928</td>\n",
       "      <td>0.000948</td>\n",
       "      <td>0.004414</td>\n",
       "      <td>1.299739e-03</td>\n",
       "      <td>14</td>\n",
       "      <td>{'kmeans__n_clusters': 14}</td>\n",
       "      <td>-1903.560652</td>\n",
       "      <td>-2003.972915</td>\n",
       "      <td>-1953.766783</td>\n",
       "      <td>50.206132</td>\n",
       "      <td>4</td>\n",
       "    </tr>\n",
       "    <tr>\n",
       "      <th>1</th>\n",
       "      <td>0.044466</td>\n",
       "      <td>0.000502</td>\n",
       "      <td>0.003336</td>\n",
       "      <td>1.883507e-04</td>\n",
       "      <td>15</td>\n",
       "      <td>{'kmeans__n_clusters': 15}</td>\n",
       "      <td>-1626.342990</td>\n",
       "      <td>-1702.180546</td>\n",
       "      <td>-1664.261768</td>\n",
       "      <td>37.918778</td>\n",
       "      <td>3</td>\n",
       "    </tr>\n",
       "    <tr>\n",
       "      <th>5</th>\n",
       "      <td>0.045811</td>\n",
       "      <td>0.001581</td>\n",
       "      <td>0.003436</td>\n",
       "      <td>5.390644e-04</td>\n",
       "      <td>16</td>\n",
       "      <td>{'kmeans__n_clusters': 16}</td>\n",
       "      <td>-1395.843117</td>\n",
       "      <td>-1480.692293</td>\n",
       "      <td>-1438.267705</td>\n",
       "      <td>42.424588</td>\n",
       "      <td>2</td>\n",
       "    </tr>\n",
       "    <tr>\n",
       "      <th>4</th>\n",
       "      <td>0.045336</td>\n",
       "      <td>0.002004</td>\n",
       "      <td>0.003682</td>\n",
       "      <td>2.886057e-04</td>\n",
       "      <td>17</td>\n",
       "      <td>{'kmeans__n_clusters': 17}</td>\n",
       "      <td>-1132.903840</td>\n",
       "      <td>-1285.295252</td>\n",
       "      <td>-1209.099546</td>\n",
       "      <td>76.195706</td>\n",
       "      <td>1</td>\n",
       "    </tr>\n",
       "  </tbody>\n",
       "</table>\n",
       "</div>"
      ],
      "text/plain": [
       "   mean_fit_time  std_fit_time  mean_score_time  std_score_time  \\\n",
       "6       0.039488      0.006625         0.003230    7.987022e-06   \n",
       "9       0.037643      0.001273         0.003136    2.307892e-04   \n",
       "0       0.062549      0.014294         0.004026    3.553629e-04   \n",
       "2       0.038217      0.000668         0.003658    1.575947e-04   \n",
       "8       0.042485      0.003193         0.003305    2.384186e-07   \n",
       "7       0.041953      0.000949         0.003688    1.670122e-04   \n",
       "3       0.044928      0.000948         0.004414    1.299739e-03   \n",
       "1       0.044466      0.000502         0.003336    1.883507e-04   \n",
       "5       0.045811      0.001581         0.003436    5.390644e-04   \n",
       "4       0.045336      0.002004         0.003682    2.886057e-04   \n",
       "\n",
       "   param_kmeans__n_clusters                      params  split0_test_score  \\\n",
       "6                         3   {'kmeans__n_clusters': 3}      -11441.039844   \n",
       "9                         5   {'kmeans__n_clusters': 5}       -7926.381356   \n",
       "0                         7   {'kmeans__n_clusters': 7}       -5868.237758   \n",
       "2                        10  {'kmeans__n_clusters': 10}       -3217.179746   \n",
       "8                        12  {'kmeans__n_clusters': 12}       -2467.474563   \n",
       "7                        13  {'kmeans__n_clusters': 13}       -2145.763850   \n",
       "3                        14  {'kmeans__n_clusters': 14}       -1903.560652   \n",
       "1                        15  {'kmeans__n_clusters': 15}       -1626.342990   \n",
       "5                        16  {'kmeans__n_clusters': 16}       -1395.843117   \n",
       "4                        17  {'kmeans__n_clusters': 17}       -1132.903840   \n",
       "\n",
       "   split1_test_score  mean_test_score  std_test_score  rank_test_score  \n",
       "6      -12390.744819    -11915.892332      474.852488               10  \n",
       "9       -8933.233633     -8429.807494      503.426139                9  \n",
       "0       -6002.016799     -5935.127279       66.889520                8  \n",
       "2       -3390.634542     -3303.907144       86.727398                7  \n",
       "8       -2572.775147     -2520.124855       52.650292                6  \n",
       "7       -2225.461168     -2185.612509       39.848659                5  \n",
       "3       -2003.972915     -1953.766783       50.206132                4  \n",
       "1       -1702.180546     -1664.261768       37.918778                3  \n",
       "5       -1480.692293     -1438.267705       42.424588                2  \n",
       "4       -1285.295252     -1209.099546       76.195706                1  "
      ]
     },
     "execution_count": 73,
     "metadata": {},
     "output_type": "execute_result"
    }
   ],
   "source": [
    "results\n",
    "# Vemos los datos de los diferentes clusters que ha escogido el randomizedsearch"
   ]
  },
  {
   "cell_type": "code",
   "execution_count": null,
   "metadata": {},
   "outputs": [
    {
     "data": {
      "image/png": "[encoded data removed]",
      "text/plain": [
       "<Figure size 1000x600 with 1 Axes>"
      ]
     },
     "metadata": {},
     "output_type": "display_data"
    }
   ],
   "source": [
    "plt.figure(figsize=(10, 6))\n",
    "plt.plot(results['param_kmeans__n_clusters'], \n",
    "         results['mean_test_score'], \n",
    "         'bo-')\n",
    "plt.xlabel('K')\n",
    "plt.ylabel('Silhouette_Score')\n",
    "plt.show()"
   ]
  }
 ],
 "metadata": {
  "colab": {
   "collapsed_sections": [],
   "name": "kmeans-user-clustering.ipynb",
   "provenance": []
  },
  "kernelspec": {
   "display_name": "Python 3",
   "language": "python",
   "name": "python3"
  },
  "language_info": {
   "codemirror_mode": {
    "name": "ipython",
    "version": 3
   },
   "file_extension": ".py",
   "mimetype": "text/x-python",
   "name": "python",
   "nbconvert_exporter": "python",
   "pygments_lexer": "ipython3",
   "version": "3.13.2"
  },
  "nbTranslate": {
   "displayLangs": [
    "*"
   ],
   "hotkey": "alt-t",
   "langInMainMenu": true,
   "sourceLang": "en",
   "targetLang": "fr",
   "useGoogleTranslate": true
  },
  "varInspector": {
   "cols": {
    "lenName": 16,
    "lenType": 16,
    "lenVar": 40
   },
   "kernels_config": {
    "python": {
     "delete_cmd_postfix": "",
     "delete_cmd_prefix": "del ",
     "library": "var_list.py",
     "varRefreshCmd": "print(var_dic_list())"
    },
    "r": {
     "delete_cmd_postfix": ") ",
     "delete_cmd_prefix": "rm(",
     "library": "var_list.r",
     "varRefreshCmd": "cat(var_dic_list()) "
    }
   },
   "types_to_exclude": [
    "module",
    "function",
    "builtin_function_or_method",
    "instance",
    "_Feature"
   ],
   "window_display": false
  }
 },
 "nbformat": 4,
 "nbformat_minor": 4
}
