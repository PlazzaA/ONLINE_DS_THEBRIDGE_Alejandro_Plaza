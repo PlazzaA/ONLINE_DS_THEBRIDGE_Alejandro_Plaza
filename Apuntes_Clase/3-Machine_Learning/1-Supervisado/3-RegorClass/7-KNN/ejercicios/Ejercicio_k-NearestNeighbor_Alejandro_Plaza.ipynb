{
 "cells": [
  {
   "attachments": {},
   "cell_type": "markdown",
   "metadata": {},
   "source": [
    "# Ejercicio k-Nearest Neighbor\n",
    "\n",
    "## App Reviews\n",
    "En este ejercicio vas a trabajar con una base de datos de reviews de una aplicación. Entre los datos podemos encontrar el texto de la review, las estrellas, así como el sentimiento del comentario (si es algo bueno o malo).\n",
    "\n",
    "El objetivo es montar un algoritmo de clasificación que prediga el rating, en función del sentimiento del comentario y la cantidad de palabras empleadas en el mismo. Para ello tendrás que utilizar un algoritmo de tipo KNN."
   ]
  },
  {
   "attachments": {},
   "cell_type": "markdown",
   "metadata": {},
   "source": [
    "## Importamos las librerías que vamos a utilizar"
   ]
  },
  {
   "cell_type": "code",
   "execution_count": 52,
   "metadata": {},
   "outputs": [],
   "source": [
    "import pandas as pd\n",
    "import numpy as np\n",
    "import matplotlib.pyplot as plt\n",
    "import seaborn as sns\n",
    "from sklearn.model_selection import train_test_split\n",
    "from sklearn.preprocessing import MinMaxScaler\n",
    "from sklearn.neighbors import KNeighborsClassifier\n",
    "from sklearn.metrics import accuracy_score, recall_score, roc_auc_score, precision_score\n",
    "from sklearn.metrics import classification_report\n",
    "from sklearn.metrics import confusion_matrix\n",
    "from sklearn.metrics import accuracy_score"
   ]
  },
  {
   "attachments": {},
   "cell_type": "markdown",
   "metadata": {},
   "source": [
    "## Leemos nuestro archivo de entrada `reviews_sentiment`"
   ]
  },
  {
   "cell_type": "code",
   "execution_count": null,
   "metadata": {},
   "outputs": [
    {
     "data": {
      "text/html": [
       "<div>\n",
       "<style scoped>\n",
       "    .dataframe tbody tr th:only-of-type {\n",
       "        vertical-align: middle;\n",
       "    }\n",
       "\n",
       "    .dataframe tbody tr th {\n",
       "        vertical-align: top;\n",
       "    }\n",
       "\n",
       "    .dataframe thead th {\n",
       "        text-align: right;\n",
       "    }\n",
       "</style>\n",
       "<table border=\"1\" class=\"dataframe\">\n",
       "  <thead>\n",
       "    <tr style=\"text-align: right;\">\n",
       "      <th></th>\n",
       "      <th>Review Title</th>\n",
       "      <th>Review Text</th>\n",
       "      <th>wordcount</th>\n",
       "      <th>titleSentiment</th>\n",
       "      <th>textSentiment</th>\n",
       "      <th>Star Rating</th>\n",
       "      <th>sentimentValue</th>\n",
       "    </tr>\n",
       "  </thead>\n",
       "  <tbody>\n",
       "    <tr>\n",
       "      <th>0</th>\n",
       "      <td>Sin conexión</td>\n",
       "      <td>Hola desde hace algo más de un mes me pone sin...</td>\n",
       "      <td>23</td>\n",
       "      <td>negative</td>\n",
       "      <td>negative</td>\n",
       "      <td>1</td>\n",
       "      <td>-0.486389</td>\n",
       "    </tr>\n",
       "    <tr>\n",
       "      <th>1</th>\n",
       "      <td>faltan cosas</td>\n",
       "      <td>Han mejorado la apariencia pero no</td>\n",
       "      <td>20</td>\n",
       "      <td>negative</td>\n",
       "      <td>negative</td>\n",
       "      <td>1</td>\n",
       "      <td>-0.586187</td>\n",
       "    </tr>\n",
       "    <tr>\n",
       "      <th>2</th>\n",
       "      <td>Es muy buena lo recomiendo</td>\n",
       "      <td>Andres e puto amoooo</td>\n",
       "      <td>4</td>\n",
       "      <td>NaN</td>\n",
       "      <td>negative</td>\n",
       "      <td>1</td>\n",
       "      <td>-0.602240</td>\n",
       "    </tr>\n",
       "    <tr>\n",
       "      <th>3</th>\n",
       "      <td>Version antigua</td>\n",
       "      <td>Me gustana mas la version anterior esta es mas...</td>\n",
       "      <td>17</td>\n",
       "      <td>NaN</td>\n",
       "      <td>negative</td>\n",
       "      <td>1</td>\n",
       "      <td>-0.616271</td>\n",
       "    </tr>\n",
       "    <tr>\n",
       "      <th>4</th>\n",
       "      <td>Esta bien</td>\n",
       "      <td>Sin ser la biblia.... Esta bien</td>\n",
       "      <td>6</td>\n",
       "      <td>negative</td>\n",
       "      <td>negative</td>\n",
       "      <td>1</td>\n",
       "      <td>-0.651784</td>\n",
       "    </tr>\n",
       "  </tbody>\n",
       "</table>\n",
       "</div>"
      ],
      "text/plain": [
       "                 Review Title  \\\n",
       "0                Sin conexión   \n",
       "1                faltan cosas   \n",
       "2  Es muy buena lo recomiendo   \n",
       "3             Version antigua   \n",
       "4                   Esta bien   \n",
       "\n",
       "                                         Review Text  wordcount  \\\n",
       "0  Hola desde hace algo más de un mes me pone sin...         23   \n",
       "1                 Han mejorado la apariencia pero no         20   \n",
       "2                               Andres e puto amoooo          4   \n",
       "3  Me gustana mas la version anterior esta es mas...         17   \n",
       "4                    Sin ser la biblia.... Esta bien          6   \n",
       "\n",
       "  titleSentiment textSentiment  Star Rating  sentimentValue  \n",
       "0       negative      negative            1       -0.486389  \n",
       "1       negative      negative            1       -0.586187  \n",
       "2            NaN      negative            1       -0.602240  \n",
       "3            NaN      negative            1       -0.616271  \n",
       "4       negative      negative            1       -0.651784  "
      ]
     },
     "execution_count": 5,
     "metadata": {},
     "output_type": "execute_result"
    }
   ],
   "source": [
    "df = pd.read_csv('data/reviews_sentiment.csv', sep=';')\n",
    "df.head()"
   ]
  },
  {
   "attachments": {},
   "cell_type": "markdown",
   "metadata": {},
   "source": [
    "Para facilitar el ejercicio, las columnas que utilizaremos serán: wordcount con la cantidad de palabras utilizadas y sentimentValue con un valor entre -4 y 4 que indica si el comentario fue valorado como positivo o negativo"
   ]
  },
  {
   "attachments": {},
   "cell_type": "markdown",
   "metadata": {},
   "source": [
    "Nuestras etiquetas, serán las estrellas que dieron los usuarios a la app, que son valores discretos del 1 al 5"
   ]
  },
  {
   "attachments": {},
   "cell_type": "markdown",
   "metadata": {},
   "source": [
    "## Rápidas visualizaciones y análisis\n",
    "Al menos realiza un análisis univariante y representa la distribución del rating. Realiza otras visualizaciones para ver la relación de tus datos."
   ]
  },
  {
   "cell_type": "code",
   "execution_count": 40,
   "metadata": {},
   "outputs": [
    {
     "data": {
      "text/plain": [
       "<Axes: xlabel='wordcount', ylabel='Star Rating'>"
      ]
     },
     "execution_count": 40,
     "metadata": {},
     "output_type": "execute_result"
    },
    {
     "data": {
      "image/png": "[encoded data removed]",
      "text/plain": [
       "<Figure size 1000x600 with 2 Axes>"
      ]
     },
     "metadata": {},
     "output_type": "display_data"
    }
   ],
   "source": [
    "plt.figure(figsize = (10,6))\n",
    "plt.subplot(1,2,1)\n",
    "sns.countplot(data = df, x = 'Star Rating')\n",
    "plt.subplot(1,2,2)\n",
    "sns.scatterplot(data = df, x = 'wordcount', y = 'Star Rating',  hue = 'sentimentValue', palette = 'viridis')"
   ]
  },
  {
   "attachments": {},
   "cell_type": "markdown",
   "metadata": {},
   "source": [
    "## Preparamos el dataset\n",
    "Divide en train/test y escala las features en el rango [0, 1]."
   ]
  },
  {
   "cell_type": "code",
   "execution_count": 41,
   "metadata": {},
   "outputs": [],
   "source": [
    "X = df[['wordcount', 'sentimentValue']]\n",
    "y = df['Star Rating']"
   ]
  },
  {
   "cell_type": "code",
   "execution_count": 43,
   "metadata": {},
   "outputs": [],
   "source": [
    "X_train, X_test, y_train, y_test = train_test_split(X, y, test_size=0.2, random_state=42)\n",
    "\n",
    "scaler = MinMaxScaler()\n",
    "X_train_scal = scaler.fit_transform(X_train)\n",
    "X_test_scal = scaler.transform(X_test)\n"
   ]
  },
  {
   "attachments": {},
   "cell_type": "markdown",
   "metadata": {},
   "source": [
    "## Creamos el Modelo\n",
    "Entrena con un KNN y evalúa el error en train y en test"
   ]
  },
  {
   "cell_type": "code",
   "execution_count": 60,
   "metadata": {},
   "outputs": [],
   "source": [
    "knn = KNeighborsClassifier(n_neighbors=3)\n",
    "\n",
    "knn.fit(X_train, y_train)\n",
    "prediccion = knn.predict(X_test)"
   ]
  },
  {
   "attachments": {},
   "cell_type": "markdown",
   "metadata": {},
   "source": [
    "## Evalúa tu modelo"
   ]
  },
  {
   "cell_type": "code",
   "execution_count": 61,
   "metadata": {},
   "outputs": [
    {
     "name": "stdout",
     "output_type": "stream",
     "text": [
      "0.7884615384615384\n",
      "recall 0.7884615384615384\n",
      "precision 0.8349358974358974\n"
     ]
    }
   ],
   "source": [
    "print(accuracy_score(y_test, prediccion))\n",
    "print(\"recall\", recall_score(y_test, prediccion, average='weighted'))\n",
    "print(\"precision\", precision_score(y_test, prediccion, average='weighted'))"
   ]
  },
  {
   "attachments": {},
   "cell_type": "markdown",
   "metadata": {},
   "source": [
    "## ¿Cómo obtener el mejor valor de k? Crea y evalúa nuevos modelos\n",
    "¿Qué valor de k maximiza el accuracy? Representa todas las iteraciones en un scatterplot -> k vs accuracy"
   ]
  },
  {
   "cell_type": "code",
   "execution_count": 64,
   "metadata": {},
   "outputs": [],
   "source": [
    "kv = range(1, 30)\n",
    "train_acc = []\n",
    "test_acc = []\n",
    "\n",
    "for k in kv:\n",
    "    knn = KNeighborsClassifier(n_neighbors=k)\n",
    "    knn.fit(X_train_scal, y_train)\n",
    "    train_acc.append(accuracy_score(y_train, knn.predict(X_train_scal)))\n",
    "    test_acc.append(accuracy_score(y_test, knn.predict(X_test_scal)))"
   ]
  },
  {
   "cell_type": "code",
   "execution_count": 73,
   "metadata": {},
   "outputs": [
    {
     "data": {
      "text/plain": [
       "2"
      ]
     },
     "execution_count": 73,
     "metadata": {},
     "output_type": "execute_result"
    }
   ],
   "source": [
    "mejor_k = kv[np.argmax(test_acc)]\n",
    "mejor_k"
   ]
  },
  {
   "attachments": {},
   "cell_type": "markdown",
   "metadata": {},
   "source": [
    "## Predice con nuevos datos.\n",
    "Ejemplo: supongamos que nos llega una review de 5 palabras y sentimiento 1"
   ]
  },
  {
   "cell_type": "code",
   "execution_count": 83,
   "metadata": {},
   "outputs": [
    {
     "name": "stdout",
     "output_type": "stream",
     "text": [
      "El número de estrellas para dicha review será de: [5] estrellas\n"
     ]
    },
    {
     "name": "stderr",
     "output_type": "stream",
     "text": [
      "c:\\Users\\plaza\\AppData\\Local\\Programs\\Python\\Python313\\Lib\\site-packages\\sklearn\\utils\\validation.py:2739: UserWarning: X does not have valid feature names, but MinMaxScaler was fitted with feature names\n",
      "  warnings.warn(\n"
     ]
    }
   ],
   "source": [
    "knn2 = KNeighborsClassifier(n_neighbors = mejor_k)\n",
    "\n",
    "knn2.fit(X_train_scal, y_train)\n",
    "nueva_rev = np.array([[5, 1]])\n",
    "review_scal = scaler.transform(nueva_rev)\n",
    "prediccion2 = knn2.predict(review_scal)\n",
    "print('El número de estrellas para dicha review será de:', prediccion2, 'estrellas')"
   ]
  }
 ],
 "metadata": {
  "kernelspec": {
   "display_name": "Python 3",
   "language": "python",
   "name": "python3"
  },
  "language_info": {
   "codemirror_mode": {
    "name": "ipython",
    "version": 3
   },
   "file_extension": ".py",
   "mimetype": "text/x-python",
   "name": "python",
   "nbconvert_exporter": "python",
   "pygments_lexer": "ipython3",
   "version": "3.13.2"
  },
  "vscode": {
   "interpreter": {
    "hash": "703e8db34bb7cdd00b82a89d91d2e2137d3ce887601c5554b79c7f8766c7193f"
   }
  }
 },
 "nbformat": 4,
 "nbformat_minor": 4
}
