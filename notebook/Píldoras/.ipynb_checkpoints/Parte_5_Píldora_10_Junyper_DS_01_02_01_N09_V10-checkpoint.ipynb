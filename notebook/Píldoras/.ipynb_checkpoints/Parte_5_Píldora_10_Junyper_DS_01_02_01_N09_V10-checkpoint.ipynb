{
 "cells": [
  {
   "cell_type": "markdown",
   "metadata": {
    "id": "3Z2oVw1ivJA6"
   },
   "source": [
    "![TheBridge_Python_v0.png](attachment:TheBridge_Python_v0.png)"
   ]
  },
  {
   "cell_type": "markdown",
   "metadata": {
    "id": "yFpWydFyvJA7"
   },
   "source": [
    "##  Argumentos clave-valor"
   ]
  },
  {
   "cell_type": "markdown",
   "metadata": {
    "id": "2FG-IJ4TvJA7"
   },
   "source": [
    "### Contenidos"
   ]
  },
  {
   "cell_type": "markdown",
   "metadata": {
    "id": "9J5S9r86vJA7"
   },
   "source": [
    "* [Combinar `*args` con `**kwargs`](#Combinar-`*args`-con-`**kwargs`)\n",
    "* [Argumentos keyword](#Argumentos-keyword)\n"
   ]
  },
  {
   "cell_type": "markdown",
   "metadata": {
    "id": "EXJkYgo9vJA7"
   },
   "source": [
    "\n",
    "Para terminar con las diferentes posibilidades que ofrecen los argumentos de las funciones, vamos a tratar los argumentos clave-valor.  \n",
    "\n",
    "Es decir, tenemos también la opción de introducir un diccionario como argumentos, de esta forma, aunque el numero de argumentos sea variable, tendremos un inidicador, la clave, y el valor de cada clave.\n",
    "\n",
    "Se implementa con `**`"
   ]
  },
  {
   "cell_type": "code",
   "execution_count": 2,
   "metadata": {
    "id": "KXf1Py0HvJA8"
   },
   "outputs": [
    {
     "name": "stdout",
     "output_type": "stream",
     "text": [
      "<class 'dict'>\n",
      "{'modelo': 'S20', 'marca': 'Samsung', 'camara': '24MPX'}\n"
     ]
    }
   ],
   "source": [
    "def insertar_movil_bd(**clave_valor):\n",
    "    print(type(clave_valor))\n",
    "    print(clave_valor)\n",
    "\n",
    "insertar_movil_bd(modelo = \"S20\", marca = \"Samsung\", camara = \"24MPX\")"
   ]
  },
  {
   "cell_type": "code",
   "execution_count": 6,
   "metadata": {},
   "outputs": [
    {
     "name": "stdout",
     "output_type": "stream",
     "text": [
      "<class 'dict'>\n",
      "{'modelo': 'S20', 'marca': 'Samsung', 'camara': '24MPX', 'flip': True}\n"
     ]
    }
   ],
   "source": [
    "def insertar_movil_bs(**kwargs):\n",
    "    for clave,valor in kwargs.items():\n",
    "        #insertar(clave,valor)\n",
    "        print(clave, \":\", valor)\n",
    "\n",
    "insertar_movil_bd(modelo = \"S20\", marca = \"Samsung\", camara = \"24MPX\", flip = True)"
   ]
  },
  {
   "cell_type": "markdown",
   "metadata": {
    "id": "3RqlN27HvJA8"
   },
   "source": [
    "### Combinar `*args` con `**kwargs`\n",
    "[al indice](#Contenidos)  \n",
    "No hay ningun problema en tener un numero variable de argumentos y también argumentos clave-valor, todo ello en la misma función."
   ]
  },
  {
   "cell_type": "code",
   "execution_count": 9,
   "metadata": {
    "id": "FZiMmUCxvJA8"
   },
   "outputs": [
    {
     "name": "stdout",
     "output_type": "stream",
     "text": [
      "<class 'tuple'>\n",
      "Es muy bueno\n",
      "No dura lo suficiente la batería\n",
      "<class 'dict'>\n",
      "{'modelo': 'S20', 'marca': 'Samsung', 'camara': '24MPX', 'flip': True}\n"
     ]
    }
   ],
   "source": [
    "def insertar_movil(*args, **kwargs):\n",
    "    print(type(args))\n",
    "    for i in args:\n",
    "        print(i)\n",
    "\n",
    "\n",
    "    for clave,valor in kwargs.items():\n",
    "        print(clave,valor)\n",
    "\n",
    "insertar_movil(\"Es muy bueno\", \"No dura lo suficiente la batería\")\n",
    "insertar_movil_bd(modelo = \"S20\", marca = \"Samsung\", camara = \"24MPX\", flip = True)"
   ]
  },
  {
   "cell_type": "code",
   "execution_count": 10,
   "metadata": {},
   "outputs": [
    {
     "ename": "SyntaxError",
     "evalue": "arguments cannot follow var-keyword argument (4061382014.py, line 1)",
     "output_type": "error",
     "traceback": [
      "  \u001b[36mCell\u001b[39m\u001b[36m \u001b[39m\u001b[32mIn[10]\u001b[39m\u001b[32m, line 1\u001b[39m\n\u001b[31m    \u001b[39m\u001b[31mdef test(**kwargs, *args):\u001b[39m\n                       ^\n\u001b[31mSyntaxError\u001b[39m\u001b[31m:\u001b[39m arguments cannot follow var-keyword argument\n"
     ]
    }
   ],
   "source": [
    "def test(**kwargs, *args):\n",
    "    print(\"test\")"
   ]
  },
  {
   "cell_type": "markdown",
   "metadata": {
    "id": "xd-lN2h0vJA8"
   },
   "source": [
    "### Argumentos keyword\n",
    "[al indice](#Contenidos)  \n",
    "Existe otro tipo de argumentos que son los *keyword*. Se caracterizan porque llevan un valor por defecto, y por tanto, si no usamos dicho argumento en la llamada, dentro de la función tomará el valor que hayamos dejado por defecto.\n",
    "\n",
    "Ten en cuenta que estos argumentos se colocan **al final**"
   ]
  },
  {
   "cell_type": "code",
   "execution_count": 14,
   "metadata": {
    "id": "hGqQjS5gvJA8"
   },
   "outputs": [
    {
     "data": {
      "text/plain": [
       "12.33"
      ]
     },
     "execution_count": 14,
     "metadata": {},
     "output_type": "execute_result"
    }
   ],
   "source": [
    "round(12.331231, 2)"
   ]
  },
  {
   "cell_type": "code",
   "execution_count": 15,
   "metadata": {},
   "outputs": [
    {
     "data": {
      "text/plain": [
       "[54, 24, 12, 12, 3]"
      ]
     },
     "execution_count": 15,
     "metadata": {},
     "output_type": "execute_result"
    }
   ],
   "source": [
    "sorted([12, 3, 24, 54, 12], reverse = True)"
   ]
  },
  {
   "cell_type": "code",
   "execution_count": 16,
   "metadata": {},
   "outputs": [
    {
     "name": "stdout",
     "output_type": "stream",
     "text": [
      "Su pedido de Televisión LG se entregará el 12/12/2025\n",
      "Pongase en contacto con Att. al Cliente\n",
      "Su pedido de iMac 27`` se entregará el 10/11/2025\n"
     ]
    }
   ],
   "source": [
    "def pedido_online(pedido, fecha, incidencia = False):\n",
    "    if incidencia == True:\n",
    "        print(\"Pongase en contacto con Att. al Cliente\")\n",
    "    print(\"Su pedido de\", pedido, \"se entregará el\", fecha)\n",
    "\n",
    "pedido_online(\"Televisión LG\", \"12/12/2025\")\n",
    "pedido_online(\"iMac 27``\", \"10/11/2025\", incidencia = True)"
   ]
  },
  {
   "cell_type": "markdown",
   "metadata": {
    "id": "DukJDmKqvJA8"
   },
   "source": [
    "<table align=\"left\">\n",
    " <tr>\n",
    "     <td style=\"text-align:left\">\n",
    "         <h3>ERRORES con argumentos keyword</h3>\n",
    "         \n",
    " </td></tr>\n",
    "</table>"
   ]
  },
  {
   "cell_type": "code",
   "execution_count": 18,
   "metadata": {
    "id": "5HbB5nvFvJA8"
   },
   "outputs": [
    {
     "ename": "SyntaxError",
     "evalue": "parameter without a default follows parameter with a default (392540176.py, line 1)",
     "output_type": "error",
     "traceback": [
      "  \u001b[36mCell\u001b[39m\u001b[36m \u001b[39m\u001b[32mIn[18]\u001b[39m\u001b[32m, line 1\u001b[39m\n\u001b[31m    \u001b[39m\u001b[31mdef pedido_online(pedido, incidencia = False, fecha)\u001b[39m\n                                                  ^\n\u001b[31mSyntaxError\u001b[39m\u001b[31m:\u001b[39m parameter without a default follows parameter with a default\n"
     ]
    }
   ],
   "source": [
    "def pedido_online(pedido, incidencia = False, fecha)\n",
    "    if incidencia == True:\n",
    "        print(\"Pongase en contacto con Att. al Cliente\")\n",
    "    print(\"Su pedido de\", pedido, \"se entregará el\", fecha)"
   ]
  }
 ],
 "metadata": {
  "colab": {
   "provenance": []
  },
  "kernelspec": {
   "display_name": "Python 3 (ipykernel)",
   "language": "python",
   "name": "python3"
  },
  "language_info": {
   "codemirror_mode": {
    "name": "ipython",
    "version": 3
   },
   "file_extension": ".py",
   "mimetype": "text/x-python",
   "name": "python",
   "nbconvert_exporter": "python",
   "pygments_lexer": "ipython3",
   "version": "3.13.2"
  }
 },
 "nbformat": 4,
 "nbformat_minor": 4
}
