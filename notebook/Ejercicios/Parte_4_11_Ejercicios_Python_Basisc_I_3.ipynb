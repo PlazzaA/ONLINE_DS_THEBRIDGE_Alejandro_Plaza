{
 "cells": [
  {
   "cell_type": "markdown",
   "metadata": {
    "id": "1vdgN1oSoDXd"
   },
   "source": [
    "![TheBridge_logo_RGB_color.jpg](attachment:TheBridge_logo_RGB_color.jpg)"
   ]
  },
  {
   "cell_type": "markdown",
   "metadata": {
    "id": "algb51hJoDXe"
   },
   "source": [
    "![imagen](./img/ejercicios.png)"
   ]
  },
  {
   "cell_type": "markdown",
   "metadata": {
    "id": "isRAtfdRoDXe"
   },
   "source": [
    "## EJERCICIOS PYTHON BASICO 3:\n",
    "## Operaciones matemáticas, comparación y booleanas"
   ]
  },
  {
   "cell_type": "markdown",
   "metadata": {
    "id": "YCi65MutoDXe"
   },
   "source": [
    "Completa los siguiente ejercicios, la solución completa a los mismos se publicarán en el repo del curso a lo largo del sprint. En algunos ejercicios se muestra la solución final, para que puedas comprobar que lo has hecho bien, pero lo importante es el código que generes. ¡Vaaamos, a ello...!"
   ]
  },
  {
   "cell_type": "markdown",
   "metadata": {
    "id": "HMEEEv0yoDXe"
   },
   "source": [
    "![ejercicio.png](./img/ejercicio.png)\n",
    "\n",
    "\n",
    "## Ejercicio 1\n",
    "Tenemos las siguientes variables:\n",
    "\n",
    "```Python\n",
    "A = 4\n",
    "B = \"Text\"\n",
    "C = 4.1\n",
    "```\n",
    "\n",
    "Comprueba:\n",
    "1. Si A y B son equivalentes\n",
    "2. Si A y C NO son equivalentes\n",
    "3. Si A es mayor que C\n",
    "4. Si C es menor o igual que A\n",
    "5. Si B NO es equivalente a C"
   ]
  },
  {
   "cell_type": "code",
   "execution_count": 1,
   "metadata": {
    "id": "evmzDRonoDXf",
    "outputId": "9376a39c-9e75-4772-f2ae-b8993015234f"
   },
   "outputs": [
    {
     "name": "stdout",
     "output_type": "stream",
     "text": [
      "1. A es equivalente a B: False\n",
      "2. A no es equivalente a C: True\n",
      "3. A es mayor que C: False\n",
      "4. C es menor o igual a A: False\n",
      "5. B no es equivalente a C: True\n"
     ]
    }
   ],
   "source": [
    "A = 4\n",
    "B = \"Text\"\n",
    "C = 4.1\n",
    "print(\"1. A es equivalente a B:\", A == B)\n",
    "print(\"2. A no es equivalente a C:\", A != C)\n",
    "print(\"3. A es mayor que C:\", A > C)\n",
    "print(\"4. C es menor o igual a A:\", C <= A)\n",
    "print(\"5. B no es equivalente a C:\", not B == C)"
   ]
  },
  {
   "cell_type": "markdown",
   "metadata": {
    "id": "1YlFpNYHoDXf"
   },
   "source": [
    "![ejercicio.png](./img/ejercicio.png)\n",
    "\n",
    "## Ejercicio 2\n",
    "Crea un programa donde se recojan dos inputs del usuario, y el output del programa sea si esos inputs son iguales o no"
   ]
  },
  {
   "cell_type": "code",
   "execution_count": 13,
   "metadata": {
    "id": "fMitQ_mgoDXf"
   },
   "outputs": [
    {
     "name": "stdin",
     "output_type": "stream",
     "text": [
      "¿Cuál es tu nombre? Alejandro\n",
      "¿Cuál es el nombre de tu padre? Pedro\n"
     ]
    },
    {
     "name": "stdout",
     "output_type": "stream",
     "text": [
      "Lamentablemente no os llamáis igual, hubiese molado que Pedro se llamase como tú\n"
     ]
    }
   ],
   "source": [
    "nombre = input(\"¿Cuál es tu nombre?\")\n",
    "nombre_p = input(\"¿Cuál es el nombre de tu padre?\")\n",
    "if nombre == nombre_p:\n",
    "    print(\"Vaya tu padre se llama igual que tú\")\n",
    "else:\n",
    "    print(\"Lamentablemente no os llamáis igual, hubiese molado que\", nombre_p, \"se llamase como tú\")"
   ]
  },
  {
   "cell_type": "markdown",
   "metadata": {
    "id": "XYevi7SloDXg"
   },
   "source": [
    "![ejercicio.png](./img/ejercicio.png)\n",
    "\n",
    "## Ejercicio 3\n",
    "Mismo programa que en 2, pero en esta ocasión tienen que ser tres inputs y dos salidas. Una de las salidas que nos indique si todos son iguales, y la otra si al menos dos inputs sí que lo son"
   ]
  },
  {
   "cell_type": "code",
   "execution_count": 17,
   "metadata": {
    "id": "5Tk9-0g-oDXg",
    "outputId": "a1d56239-10ab-4e3a-bd39-6b5e7f3ec66a"
   },
   "outputs": [
    {
     "name": "stdin",
     "output_type": "stream",
     "text": [
      "¿Cuál es tu nombre? Alejandro\n",
      "¿Cuál es el nombre de tu padre? Alejandro\n",
      "Y tu abuelo,¿Cómo se llama? Alejandro\n"
     ]
    },
    {
     "name": "stdout",
     "output_type": "stream",
     "text": [
      "Os llamáis todos igual, desde qué generación se repetirá tu nombre, o sea, Alejandro\n"
     ]
    }
   ],
   "source": [
    "nombre = input(\"¿Cuál es tu nombre?\")\n",
    "nombre_p = input(\"¿Cuál es el nombre de tu padre?\")\n",
    "nombre_a = input(\"Y tu abuelo,¿Cómo se llama?\")\n",
    "if nombre == nombre_p and nombre == nombre_a:\n",
    "    print(\"Os llamáis todos igual, desde qué generación se repetirá tu nombre, o sea,\", nombre)\n",
    "elif nombre == nombre_p or nombre == nombre_a or nombre_p == nombre_a:\n",
    "    print(\"Así que es bastante común llamaros igual en tu familia.\")\n",
    "else:\n",
    "    print(\"Lamentablemente no os llamáis igual, hubiese molado que\", nombre_p, \"o\", nombre_a, \"se llamase como tú\")"
   ]
  },
  {
   "cell_type": "markdown",
   "metadata": {
    "id": "SCwKIpKtoDXg"
   },
   "source": [
    "![ejercicio.png](./img/ejercicio.png)\n",
    "\n",
    "## Ejercicio 4\n",
    "Razona sin ejecutar código el output que obtendremos de las siguientes sentencias\n",
    "1. True and True and False\n",
    "2. not ((True or False) and (True or False))\n",
    "3. (False or False or False or True) and False\n",
    "4. not False and True and not True"
   ]
  },
  {
   "cell_type": "markdown",
   "metadata": {
    "id": "8gfkSzVroDXg"
   },
   "source": [
    "1. Obtendremos False, ya que al usar el operador \"and\", si una de las variables es False, la respuesta será False\n",
    "2. Obtendremos False, ya que el operador \"not\" lo que hace es \"invertir la respuesta\", es decir, transformar False en True y viceversa, y como se está haciendo True (ya que el operador \"or\" devuelve True siempre que una de las variables lo sea) \"and\" True, la respuesta sería not True, por lo tanto la respuesta final sería False\n",
    "3. La respuesta obtenida en (False or False or False or True) sería True (debido a lo explicado anteriormente sobre el operador \"or\"), y la respuesta final sería False, debido a lo explicado anteriormente sobre el operador \"and\"\n",
    "4. La respuesta sería False (debido a lo anteriormente explicado sobre \"not\", y \"and\"). Visto de otra manera seríra: True and True and False"
   ]
  }
 ],
 "metadata": {
  "colab": {
   "provenance": []
  },
  "kernelspec": {
   "display_name": "Python 3 (ipykernel)",
   "language": "python",
   "name": "python3"
  },
  "language_info": {
   "codemirror_mode": {
    "name": "ipython",
    "version": 3
   },
   "file_extension": ".py",
   "mimetype": "text/x-python",
   "name": "python",
   "nbconvert_exporter": "python",
   "pygments_lexer": "ipython3",
   "version": "3.13.2"
  }
 },
 "nbformat": 4,
 "nbformat_minor": 4
}
