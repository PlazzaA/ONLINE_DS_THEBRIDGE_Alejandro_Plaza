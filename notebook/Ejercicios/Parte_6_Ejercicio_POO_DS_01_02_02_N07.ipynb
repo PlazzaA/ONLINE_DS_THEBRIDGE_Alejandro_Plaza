{
 "cells": [
  {
   "cell_type": "markdown",
   "metadata": {
    "id": "vigJnuAMSU4x"
   },
   "source": [
    "![TheBridge_logo_RGB_color.jpg](attachment:TheBridge_logo_RGB_color.jpg)"
   ]
  },
  {
   "cell_type": "markdown",
   "metadata": {
    "id": "2xmnwM17SU4y"
   },
   "source": [
    "![ejercicios.png](attachment:ejercicios.png)"
   ]
  },
  {
   "cell_type": "markdown",
   "metadata": {
    "id": "liorA-1ZSU4y"
   },
   "source": [
    "# Ejercicios Clases y Objetos"
   ]
  },
  {
   "cell_type": "markdown",
   "metadata": {
    "id": "5xXUz5l9SU4z"
   },
   "source": [
    "## Ejercicio 1\n",
    "Somos una empresa que tiene varias tiendas de electrodomesticos. Necesitamos un programa para manejar las tiendas, ver las ventas que han tenido, cuántos empleados hay, etc... Para ello vamos a modelizar la tienda en una clase, que tendrá las siguientes características:\n",
    "* Nombre clase: \"Tienda\"\n",
    "* Atributos comunes:\n",
    "    * Tipo: \"Electrodomésticos\"\n",
    "    * Abierta: True\n",
    "* Atributos propios de cada tienda:\n",
    "    * Nombre - String\n",
    "    * Dirección - String\n",
    "    * Número de empleados - int\n",
    "    * Ventas ultimos 3 meses - Lista de 3 numeros\n",
    "* Método para calcular las ventas de todos los meses, que devuelva un numero con todas las ventas.\n",
    "* Método que calcula la media de ventas de los ultimos meses, por empleado\n",
    "* Método que devuelve en un string el nombre de la tienda, junto con su dirección.\n",
    "* Método que obtiene las ventas del último mes.\n",
    "* Método para dar una proyección de las ventas en caso de haber invertido X dinero en marketing en esa tienda. Siendo X el parámetro de entrada. Si X es menor de 1000, las ventas de los ultimos 3 meses hubiesen sido de (1.2 x ventas), si es mayor o igual de 1000, las ventas hubiesen sido de (1.5 x venta). El método reescribe el atributo de ventas en los últimos 3 meses, y además devuelve las ventas con el aumento.\n",
    "\n",
    "Se pide:\n",
    "1. Implementar la clase \"Tienda\"\n",
    "2. Crear tres tiendas con datos inventados\n",
    "3. Comprueba en al menos una de ellas, todo lo implementado en la clase tienda (sus atributos, media de ventas, ventas/empleado...)\n",
    "3. Calcular las ventas del último mes de todas las tiendas. Para ello usa el bucle `for`\n",
    "4. Imprime por pantalla los nombres de las tiendas cuya dirección lleve el string \"Avenida\"\n",
    "5. Seguro que ya has hecho este apartado... Documenta la clase :)"
   ]
  },
  {
   "cell_type": "code",
   "execution_count": 1,
   "metadata": {
    "id": "5cLQcLxfSU4z"
   },
   "outputs": [
    {
     "name": "stdout",
     "output_type": "stream",
     "text": [
      "Comprobación de métodos en tienda1:\n",
      "Nombre y dirección: ElectroHome - Avenida Principal 123\n",
      "Ventas totales: 75000\n",
      "Media de ventas por empleado: 7500.0\n",
      "Ventas del último mes: 30000\n",
      "Proyección de ventas con inversión de 800: [24000, 30000, 36000]\n",
      "Proyección de ventas con inversión de 1200: [36000, 45000, 54000]\n",
      "\n",
      "Ventas del último mes de todas las tiendas:\n",
      "ElectroHome: 54000\n",
      "TechWorld: 22000\n",
      "GadgetCity: 40000\n",
      "\n",
      "Tiendas en Avenida:\n",
      "ElectroHome\n",
      "GadgetCity\n"
     ]
    }
   ],
   "source": [
    "class Tienda:\n",
    "\n",
    "    def __init__(self, nombre, direccion, num_empleados, ventas_ultimos_3_meses):\n",
    "        self.Tipo = \"Electrodomésticos\"\n",
    "        self.Abierta = True\n",
    "        self.Nombre = nombre\n",
    "        self.Dirección = direccion\n",
    "        self.Num_empleados = num_empleados\n",
    "        self.Ventas_ultimos_3_meses = ventas_ultimos_3_meses\n",
    "\n",
    "    def calcular_ventas_totales(self):\n",
    "        return sum(self.Ventas_ultimos_3_meses)\n",
    "\n",
    "    def media_ventas_por_empleado(self):\n",
    "        return self.calcular_ventas_totales() / self.Num_empleados\n",
    "\n",
    "    def obtener_nombre_y_direccion(self):\n",
    "        return f\"{self.Nombre} - {self.Dirección}\"\n",
    "\n",
    "    def obtener_ventas_ultimo_mes(self):\n",
    "        return self.Ventas_ultimos_3_meses[-1]\n",
    "\n",
    "    def proyeccion_ventas_marketing(self, inversion):\n",
    "        if inversion < 1000:\n",
    "            factor = 1.2\n",
    "        else:\n",
    "            factor = 1.5\n",
    "\n",
    "        self.Ventas_ultimos_3_meses = [int(venta * factor) for venta in self.Ventas_ultimos_3_meses]\n",
    "        return self.Ventas_ultimos_3_meses\n",
    "\n",
    "tienda1 = Tienda(\"ElectroHome\", \"Avenida Principal 123\", 10, [20000, 25000, 30000])\n",
    "tienda2 = Tienda(\"TechWorld\", \"Calle Secundaria 456\", 8, [15000, 18000, 22000])\n",
    "tienda3 = Tienda(\"GadgetCity\", \"Avenida Central 789\", 12, [30000, 35000, 40000])\n",
    "\n",
    "print(\"Comprobación de métodos en tienda1:\")\n",
    "print(\"Nombre y dirección:\", tienda1.obtener_nombre_y_direccion())\n",
    "print(\"Ventas totales:\", tienda1.calcular_ventas_totales())\n",
    "print(\"Media de ventas por empleado:\", tienda1.media_ventas_por_empleado())\n",
    "print(\"Ventas del último mes:\", tienda1.obtener_ventas_ultimo_mes())\n",
    "print(\"Proyección de ventas con inversión de 800:\", tienda1.proyeccion_ventas_marketing(800))\n",
    "print(\"Proyección de ventas con inversión de 1200:\", tienda1.proyeccion_ventas_marketing(1200))\n",
    "\n",
    "print(\"\\nVentas del último mes de todas las tiendas:\")\n",
    "for tienda in [tienda1, tienda2, tienda3]:\n",
    "    print(f\"{tienda.Nombre}: {tienda.obtener_ventas_ultimo_mes()}\")\n",
    "\n",
    "print(\"\\nTiendas en Avenida:\")\n",
    "for tienda in [tienda1, tienda2, tienda3]:\n",
    "    if \"Avenida\" in tienda.Dirección:\n",
    "        print(tienda.Nombre)"
   ]
  },
  {
   "cell_type": "markdown",
   "metadata": {
    "id": "WEBq7EpsSU40"
   },
   "source": [
    "## Ejercicio 2\n",
    "En este ejercicio vamos a implementar una clase *Perro* en Python. La clase tiene las siguientes características:\n",
    "* Cosas que sabemos seguro que tiene un perro\n",
    "    * Tiene 4 patas\n",
    "    * 2 orejas\n",
    "    * 2 ojos\n",
    "    * Una velocidad de 0. Por defecto, el perro está parado\n",
    "* Cuando se inicialice:\n",
    "    * El perro será de una determinada raza\n",
    "    * Por defecto tendrá pelo \"Marrón\", a no ser que se diga lo contrario.\n",
    "    * Por defecto no tendrá dueño, a no ser que se diga lo contrario.\n",
    "    \n",
    "* Dispondrá también de un método llamado andar, que tiene un argumento de entrada (aumento_velocidad). Este valor se le sumará a la velocidad que ya llevaba el perro.\n",
    "* Necesita otro método (parar), donde pondremos la velocidad a 0.\n",
    "* Otro método llamado \"ladrar\", que tendrá un argumento de entrada, y la salida será el siguiente string: \"GUAU!\" + el argumento de entrada.\n",
    "\n",
    "\n",
    "Se pide:\n",
    "* Implementa la clase *Perro*\n",
    "* Crea un objeto de tipo *Perro*, sin dueño\n",
    "* Comprueba que están bien todos sus atributos\n",
    "* Prueba que ande, y comprueba su velocidad\n",
    "* Páralo\n",
    "* Documenta la clase *Perro*"
   ]
  },
  {
   "cell_type": "code",
   "execution_count": 3,
   "metadata": {
    "id": "DpEWvbwGSU40"
   },
   "outputs": [
    {
     "name": "stdout",
     "output_type": "stream",
     "text": [
      "Comprobación de atributos:\n",
      "Raza: Labrador\n",
      "Color de pelo: Marrón\n",
      "Dueño: None\n",
      "Patas: 4\n",
      "Orejas: 2\n",
      "Ojos: 2\n",
      "Velocidad inicial: 0\n",
      "\n",
      "Velocidad después de andar: 10\n",
      "Velocidad después de parar: 0\n",
      "\n",
      "Ladrido: ('GUAU!', '¡Estoy feliz!')\n"
     ]
    }
   ],
   "source": [
    "class Perro:\n",
    "\n",
    "    def __init__(self, raza, color_pelo=\"Marrón\", dueño=None):\n",
    "        self.patas = 4\n",
    "        self.orejas = 2\n",
    "        self.ojos = 2\n",
    "        self.velocidad = 0\n",
    "        self.raza = raza\n",
    "        self.color_pelo = color_pelo\n",
    "        self.dueño = dueño\n",
    "\n",
    "    def andar(self, aumento_velocidad):\n",
    "        self.velocidad += aumento_velocidad\n",
    "\n",
    "    def parar(self):\n",
    "        self.velocidad = 0\n",
    "\n",
    "    def ladrar(self, mensaje):\n",
    "        return \"GUAU!\", mensaje\n",
    "\n",
    "mi_perro = Perro(raza=\"Labrador\")\n",
    "\n",
    "print(\"Comprobación de atributos:\")\n",
    "print(f\"Raza: {mi_perro.raza}\")\n",
    "print(f\"Color de pelo: {mi_perro.color_pelo}\")\n",
    "print(f\"Dueño: {mi_perro.dueño}\")\n",
    "print(f\"Patas: {mi_perro.patas}\")\n",
    "print(f\"Orejas: {mi_perro.orejas}\")\n",
    "print(f\"Ojos: {mi_perro.ojos}\")\n",
    "print(f\"Velocidad inicial: {mi_perro.velocidad}\")\n",
    "\n",
    "mi_perro.andar(aumento_velocidad=10)\n",
    "print(f\"\\nVelocidad después de andar: {mi_perro.velocidad}\")\n",
    "\n",
    "mi_perro.parar()\n",
    "print(f\"Velocidad después de parar: {mi_perro.velocidad}\")\n",
    "\n",
    "print(f\"\\nLadrido: {mi_perro.ladrar('¡Estoy feliz!')}\")"
   ]
  }
 ],
 "metadata": {
  "colab": {
   "provenance": []
  },
  "kernelspec": {
   "display_name": "Python 3 (ipykernel)",
   "language": "python",
   "name": "python3"
  },
  "language_info": {
   "codemirror_mode": {
    "name": "ipython",
    "version": 3
   },
   "file_extension": ".py",
   "mimetype": "text/x-python",
   "name": "python",
   "nbconvert_exporter": "python",
   "pygments_lexer": "ipython3",
   "version": "3.13.2"
  }
 },
 "nbformat": 4,
 "nbformat_minor": 4
}
