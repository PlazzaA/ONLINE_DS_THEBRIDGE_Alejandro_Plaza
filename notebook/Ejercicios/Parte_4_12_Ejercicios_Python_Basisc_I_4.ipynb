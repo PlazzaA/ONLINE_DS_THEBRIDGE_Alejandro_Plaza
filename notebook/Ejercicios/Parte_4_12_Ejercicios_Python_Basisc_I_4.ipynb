{
 "cells": [
  {
   "cell_type": "markdown",
   "metadata": {
    "id": "mSFwVF-Su63D"
   },
   "source": [
    "![TheBridge_logo_RGB_color.jpg](attachment:TheBridge_logo_RGB_color.jpg)"
   ]
  },
  {
   "cell_type": "markdown",
   "metadata": {
    "id": "nZYnpL9wu63E"
   },
   "source": [
    "![imagen](./img/ejercicios.png)"
   ]
  },
  {
   "cell_type": "markdown",
   "metadata": {
    "id": "s4Kx9ahhu63E"
   },
   "source": [
    "## EJERCICIOS PYTHON BASICO 4:\n",
    "## Funciones, métodos, listas"
   ]
  },
  {
   "cell_type": "markdown",
   "metadata": {
    "id": "Yw4_mWXwu63E"
   },
   "source": [
    "Completa los siguiente ejercicios, la solución completa a los mismos se publicarán en el repo del curso a lo largo del sprint. En algunos ejercicios se muestra la solución final, para que puedas comprobar que lo has hecho bien, pero lo importante es el código que generes. ¡Vaaamos, a ello...!"
   ]
  },
  {
   "cell_type": "markdown",
   "metadata": {
    "id": "ZJH_HdqXu63E"
   },
   "source": [
    "![ejercicio.png](./img/ejercicio.png)\n",
    "\n",
    "## Ejercicio 1\n",
    "Para este ejercicio vamos a poner en práctica [las funciones built in](https://docs.python.org/3/library/functions.html).\n",
    "\n",
    "1. Calcula el máximo de la lista: [4, 6, 8, -1]\n",
    "2. Suma todos los elementos de la lista anterior\n",
    "3. Redondea este float a 3 dígitos decimales: 63.451256965\n",
    "4. Valor absoluto de: -74"
   ]
  },
  {
   "cell_type": "code",
   "execution_count": 3,
   "metadata": {
    "id": "eLpHHRlAu63F"
   },
   "outputs": [
    {
     "name": "stdout",
     "output_type": "stream",
     "text": [
      "1 8\n",
      "2 17\n",
      "3 63\n",
      "4 74\n"
     ]
    }
   ],
   "source": [
    "lista = [4, 6, 8, -1]\n",
    "\n",
    "print(\"1\", max(lista))\n",
    "print(\"2\", sum(lista))\n",
    "decimal = 63.451256965\n",
    "print(\"3\", round(decimal))\n",
    "print(\"4\", abs(-74))"
   ]
  },
  {
   "cell_type": "markdown",
   "metadata": {
    "id": "CgNqY3vWu63F"
   },
   "source": [
    "![ejercicio.png](./img/ejercicio.png)\n",
    "\n",
    "## Ejercicio 2\n",
    "Para el siguiente string se pide imprimir por pantalla los siguientes casos\n",
    "\n",
    "    \"En un lugar de la Mancha, de cuyo nombre no quiero acordarme.\"\n",
    "\n",
    "1. Pásalo todo a mayúsculas\n",
    "2. Pásalo todo a minúsculas\n",
    "3. Solo la primera letra de cada palabra en mayúscula, el resto en minúscula\n",
    "4. Crea una lista dividiéndolo por sus espacios\n",
    "5. Sustituye las comas `,` por puntos y comas `;`\n",
    "6. Elimina las `a` minúsculas"
   ]
  },
  {
   "cell_type": "code",
   "execution_count": 13,
   "metadata": {
    "id": "1UEg0jPku63F",
    "outputId": "7bc5f68b-031f-4e8d-a77d-4990e14d60c4"
   },
   "outputs": [
    {
     "name": "stdout",
     "output_type": "stream",
     "text": [
      "1 EN UN LUGAR DE LA MANCHA, DE CUYO NOMBRE NO QUIERO ACORDARME.\n",
      "2 en un lugar de la mancha, de cuyo nombre no quiero acordarme.\n",
      "3 En Un Lugar De La Mancha, De Cuyo Nombre No Quiero Acordarme.\n",
      "4 ['En', 'un', 'lugar', 'de', 'la', 'Mancha,', 'de', 'cuyo', 'nombre', 'no', 'quiero', 'acordarme.']\n",
      "5 En un lugar de la Mancha; de cuyo nombre no quiero acordarme.\n",
      "6 En un lugr de l Mnch, de cuyo nombre no quiero cordrme.\n"
     ]
    }
   ],
   "source": [
    "quijote = \"En un lugar de la Mancha, de cuyo nombre no quiero acordarme.\"\n",
    "print(\"1\", quijote.upper())\n",
    "print(\"2\", quijote.lower())\n",
    "print(\"3\", quijote.title())\n",
    "print(\"4\", quijote.split(\" \"))\n",
    "print(\"5\", quijote.replace(\",\", \";\"))\n",
    "print(\"6\", quijote.replace(\"a\", \"\"))"
   ]
  },
  {
   "cell_type": "markdown",
   "metadata": {
    "id": "vrDu0T5iu63F"
   },
   "source": [
    "![ejercicio.png](./img/ejercicio.png)\n",
    "\n",
    "## Ejercicio 3\n",
    "1. Crea una lista con 3 elementos numéricos\n",
    "2. Añade un cuarto elemento\n",
    "3. Calcula la suma de todos\n",
    "4. Elimina el segundo elemento de la lista\n",
    "5. Añade otro elemento en la posicion 3 de la lista\n",
    "6. Crea otra lista con 4 elementos y concaténala a la que ya tenías.\n",
    "7. Ordena la lista de menor a mayor.\n",
    "8. BONUS: Ordena la lista de mayor a menor.  \n",
    "(*PISTA: Para hacer 8, tendrás que buscar en la información del método...*)  \n",
    "  \n",
    "  \n",
    "NOTA: Pinta por pantalla el resultado de cada paso."
   ]
  },
  {
   "cell_type": "code",
   "execution_count": 21,
   "metadata": {
    "id": "C5CfESlyu63F",
    "outputId": "e2fb2301-9172-455d-a759-2775f4649640"
   },
   "outputs": [
    {
     "name": "stdout",
     "output_type": "stream",
     "text": [
      "2 [2, 8, 16, 10]\n",
      "3 36\n",
      "4 [2, 16, 10]\n",
      "5 [2, 16, 20, 10]\n",
      "6 [2, 16, 20, 10, 1, 3, 5, 7]\n",
      "7 [1, 2, 3, 5, 7, 10, 16, 20]\n",
      "8 [20, 16, 10, 7, 5, 3, 2, 1]\n"
     ]
    }
   ],
   "source": [
    "lista = [2, 8, 16]\n",
    "lista.append(10)\n",
    "print(\"2\", lista)\n",
    "print(\"3\", sum(lista))\n",
    "lista.pop(1)\n",
    "print(\"4\", lista)\n",
    "lista.insert(2, 20)\n",
    "print(\"5\", lista)\n",
    "lista_2 = [1, 3, 5, 7]\n",
    "concatenada = lista + lista_2\n",
    "print(\"6\", concatenada)\n",
    "concatenada.sort()\n",
    "print(\"7\", concatenada)\n",
    "concatenada.sort(reverse = True)\n",
    "print(\"8\", concatenada)"
   ]
  }
 ],
 "metadata": {
  "colab": {
   "provenance": []
  },
  "kernelspec": {
   "display_name": "Python 3 (ipykernel)",
   "language": "python",
   "name": "python3"
  },
  "language_info": {
   "codemirror_mode": {
    "name": "ipython",
    "version": 3
   },
   "file_extension": ".py",
   "mimetype": "text/x-python",
   "name": "python",
   "nbconvert_exporter": "python",
   "pygments_lexer": "ipython3",
   "version": "3.13.2"
  }
 },
 "nbformat": 4,
 "nbformat_minor": 4
}
