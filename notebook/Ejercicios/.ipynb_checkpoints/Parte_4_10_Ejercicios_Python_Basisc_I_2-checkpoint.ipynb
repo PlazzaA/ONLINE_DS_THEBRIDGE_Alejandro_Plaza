{
 "cells": [
  {
   "cell_type": "markdown",
   "metadata": {
    "id": "GB2K42EgK9q5"
   },
   "source": [
    "![TheBridge_logo_RGB_color.jpg](attachment:TheBridge_logo_RGB_color.jpg)"
   ]
  },
  {
   "cell_type": "markdown",
   "metadata": {
    "id": "GnwVlO37K9q6"
   },
   "source": [
    "![imagen](./img/ejercicios.png)"
   ]
  },
  {
   "cell_type": "markdown",
   "metadata": {
    "id": "_9pTa0PXK9q6"
   },
   "source": [
    "## EJERCICIOS PYTHON BASICO 2:\n",
    "## Tipos y conversión de tipos"
   ]
  },
  {
   "cell_type": "markdown",
   "metadata": {
    "id": "tYmV-veoK9q6"
   },
   "source": [
    "Completa los siguiente ejercicios, la solución a los mismos se publicarán en el repo del curso a lo largo del sprint"
   ]
  },
  {
   "cell_type": "markdown",
   "metadata": {
    "id": "YAdFbIOXK9q7"
   },
   "source": [
    "![ejercicio.png](./img/ejercicio.png)\n",
    "\n",
    "## Ejercicio 1\n",
    "\n",
    "1. Crea dos variables numericas: un `int` y un `float`\n",
    "2. Comprueba sus tipos\n",
    "3. Sumalas en otra nueva\n",
    "4. ¿De qué tipo es la nueva variable?\n",
    "5. Elimina las dos primeras variables creadas"
   ]
  },
  {
   "cell_type": "code",
   "execution_count": 12,
   "metadata": {
    "id": "8QZmuLOsK9q7"
   },
   "outputs": [
    {
     "name": "stdout",
     "output_type": "stream",
     "text": [
      "1. 16 2. <class 'int'>\n",
      "1. 1.6 2. <class 'float'>\n",
      "3. 17.6 4. <class 'float'>\n"
     ]
    }
   ],
   "source": [
    "entero = 16\n",
    "decimal = 1.6\n",
    "print(\"1.\", entero, \"2.\", type(entero))\n",
    "print(\"1.\", decimal, \"2.\", type(decimal))\n",
    "suma = entero + decimal\n",
    "print(\"3.\", suma, \"4.\", type(suma))"
   ]
  },
  {
   "cell_type": "code",
   "execution_count": 13,
   "metadata": {},
   "outputs": [
    {
     "name": "stdout",
     "output_type": "stream",
     "text": [
      "Se van a borrar el int y el float.\n",
      "Se han borrado correctamente.\n"
     ]
    }
   ],
   "source": [
    "print(\"Se van a borrar el int y el float.\")\n",
    "del entero\n",
    "del decimal\n",
    "print(\"Se han borrado correctamente.\")"
   ]
  },
  {
   "cell_type": "markdown",
   "metadata": {
    "id": "f5xfpkpQK9q7"
   },
   "source": [
    "![ejercicio.png](./img/ejercicio.png)\n",
    "\n",
    "## Ejercicio 2\n",
    "Escribe un programa para pasar de grados a radianes. Hay que usar `input`. Recuerda que la conversión se realiza mediante\n",
    "\n",
    "radianes = grados*(pi/180)"
   ]
  },
  {
   "cell_type": "code",
   "execution_count": 22,
   "metadata": {
    "id": "V50TUQMzK9q7"
   },
   "outputs": [
    {
     "name": "stdin",
     "output_type": "stream",
     "text": [
      "Escribe algo Hola\n"
     ]
    },
    {
     "name": "stdout",
     "output_type": "stream",
     "text": [
      "No has introducido un valor válido.\n",
      "Por favor introduce un valor el 0 al infinito.\n",
      "5 radianes\n"
     ]
    }
   ],
   "source": [
    "grados = input(\"Escribe algo\")\n",
    "try:\n",
    "    radianes = int(grados) * (3.14 / 180)\n",
    "except:\n",
    "    print(\"No has introducido un valor válido.\")\n",
    "    print(\"Por favor introduce un valor el 0 al infinito.\")\n",
    "print(round(radianes), \"radianes\")"
   ]
  },
  {
   "cell_type": "markdown",
   "metadata": {
    "id": "zX3-p58CK9q7"
   },
   "source": [
    "![ejercicio.png](./img/ejercicio.png)\n",
    "\n",
    "## Ejercicio 3\n",
    "Escribe un programa que calcule el area de un paralelogramo (base x altura). También con `input`"
   ]
  },
  {
   "cell_type": "code",
   "execution_count": 23,
   "metadata": {
    "id": "s2QfNiBAK9q7"
   },
   "outputs": [
    {
     "name": "stdin",
     "output_type": "stream",
     "text": [
      "¿Cuál es la base? 200\n",
      "¿Cuál es la altura? 100\n"
     ]
    },
    {
     "name": "stdout",
     "output_type": "stream",
     "text": [
      "El área de tu paralelogramo es 20000.0\n"
     ]
    }
   ],
   "source": [
    "altura = input(\"¿Cuál es la base?\")\n",
    "base = input(\"¿Cuál es la altura?\")\n",
    "try:\n",
    "    area = float(base) * float(altura)\n",
    "except:\n",
    "    print(\"No has introducido un valor válido\")\n",
    "    print(\"Por favor introduce un valor el 0 al infinito.\")\n",
    "print(\"El área de tu paralelogramo es\", area)"
   ]
  },
  {
   "cell_type": "markdown",
   "metadata": {
    "id": "-6TBo_HvK9q8"
   },
   "source": [
    "![ejercicio.png](./img/ejercicio.png)\n",
    "\n",
    "## Ejercicio 4\n",
    "Escribe un programa que calcule el area de un paralelogramo (base x altura). También con `input`. En este caso debe ser capaz de admitir valores reales, con decimales, para base y altura en español. (PISTA: Recuerda que tendrás que hacer uso del método replace)"
   ]
  },
  {
   "cell_type": "code",
   "execution_count": 24,
   "metadata": {
    "id": "uzUIa1JqK9q8"
   },
   "outputs": [
    {
     "name": "stdin",
     "output_type": "stream",
     "text": [
      "¿Cuál es la base? 23,50\n",
      "¿Cuál es la altura? 32,13\n"
     ]
    },
    {
     "name": "stdout",
     "output_type": "stream",
     "text": [
      "El área de tu paralelogramo es 755.0550000000001\n"
     ]
    }
   ],
   "source": [
    "altura = input(\"¿Cuál es la base?\")\n",
    "base = input(\"¿Cuál es la altura?\")\n",
    "try:\n",
    "    area = float(base.replace(\",\", \".\")) * float(altura.replace(\",\", \".\"))\n",
    "except:\n",
    "    print(\"No has introducido un valor válido\")\n",
    "    print(\"Por favor introduce un valor el 0 al infinito.\")\n",
    "print(\"El área de tu paralelogramo es\", area)"
   ]
  },
  {
   "cell_type": "markdown",
   "metadata": {
    "id": "5zKugi5iK9q8"
   },
   "source": [
    "![ejercicio.png](./img/ejercicio.png)\n",
    "\n",
    "## Ejercicio 5\n",
    "Complete el siguiente código para solicitar al usuario su nombre y su edad. Luego, calcule en qué año nació el usuario y muestre el resultado."
   ]
  },
  {
   "cell_type": "code",
   "execution_count": 30,
   "metadata": {
    "id": "LISfTnRkK9q8"
   },
   "outputs": [
    {
     "name": "stdin",
     "output_type": "stream",
     "text": [
      "¿Cuál es tu nombre?  Alejandro\n",
      "¿Cuál es tu edad?  23\n"
     ]
    },
    {
     "name": "stdout",
     "output_type": "stream",
     "text": [
      "Alejandro, naciste en el año 2002.\n"
     ]
    }
   ],
   "source": [
    "nombre = input(\"¿Cuál es tu nombre? \")\n",
    "try:\n",
    "    edad = int(input(\"¿Cuál es tu edad? \"))\n",
    "except:\n",
    "    print(\"No has introducido un valor válido, por favor indica tu edad con números.\")\n",
    "año_actual = 2025  # Puedes cambiarlo según el año en curso\n",
    "año_nacimiento = año_actual - edad\n",
    "\n",
    "print(f\"{nombre}, naciste en el año {año_nacimiento}.\")\n"
   ]
  }
 ],
 "metadata": {
  "colab": {
   "provenance": []
  },
  "kernelspec": {
   "display_name": "Python 3 (ipykernel)",
   "language": "python",
   "name": "python3"
  },
  "language_info": {
   "codemirror_mode": {
    "name": "ipython",
    "version": 3
   },
   "file_extension": ".py",
   "mimetype": "text/x-python",
   "name": "python",
   "nbconvert_exporter": "python",
   "pygments_lexer": "ipython3",
   "version": "3.13.2"
  }
 },
 "nbformat": 4,
 "nbformat_minor": 4
}
