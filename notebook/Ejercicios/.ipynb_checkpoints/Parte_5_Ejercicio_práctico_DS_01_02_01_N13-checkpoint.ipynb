{
 "cells": [
  {
   "cell_type": "markdown",
   "metadata": {
    "id": "9l3HMgm6RWxF"
   },
   "source": [
    "![TheBridge_logo_RGB_color.jpg](attachment:TheBridge_logo_RGB_color.jpg)"
   ]
  },
  {
   "cell_type": "markdown",
   "metadata": {
    "id": "RGg9iWpoRWxG"
   },
   "source": [
    "![ejercicios.png](attachment:ejercicios.png)"
   ]
  },
  {
   "cell_type": "markdown",
   "metadata": {
    "id": "AyOlWS2nRWxH"
   },
   "source": [
    "## PRACTICA OBLIGATORIA: COLECCIONES Y FUNCIONES"
   ]
  },
  {
   "cell_type": "markdown",
   "metadata": {
    "id": "6UOgb0KVRWxH"
   },
   "source": [
    "* La práctica obligatoria de esta unidad consiste varios ejercicios de programación libre a completar sobre Colecciones y Funciones. Descarga este notebook en tu ordenador y trabaja en local.  \n",
    "* Recuerda que debes subirla a tu repositorio personal antes de la sesión en vivo para que puntúe adecuadamente y puedas participar en dicha sesión.  \n",
    "* Recuerda también que no es necesario que esté perfecta, sólo es necesario que se vea el esfuerzo.\n",
    "* Esta práctica se resolverá en la sesión en vivo correspondiente y la solución se publicará en el repo del curso."
   ]
  },
  {
   "cell_type": "markdown",
   "metadata": {
    "id": "j3yu-tEjRWxH"
   },
   "source": [
    "### Contenidos"
   ]
  },
  {
   "cell_type": "markdown",
   "metadata": {
    "id": "kO-fLH39RWxH"
   },
   "source": [
    "## Ejercicio 1\n",
    "Eleva todos los elementos de la lista al cuadrado\n",
    "> ```ejer_2 = [1,2,3,4,5]```"
   ]
  },
  {
   "cell_type": "code",
   "execution_count": 4,
   "metadata": {
    "id": "ks5l3yi7RWxH"
   },
   "outputs": [
    {
     "name": "stdout",
     "output_type": "stream",
     "text": [
      "[1, 4, 9, 16, 25]\n"
     ]
    }
   ],
   "source": [
    "ejer_2 = [1,2,3,4,5]\n",
    "elevado = []\n",
    "for num in ejer_2:\n",
    "    elevado.append(num ** 2)\n",
    "print(elevado)"
   ]
  },
  {
   "cell_type": "markdown",
   "metadata": {
    "id": "kI_Xr5oFRWxI"
   },
   "source": [
    "## Ejercicio 2\n",
    "Haz un programa que detecte todos los duplicados de un elemento en una lista:\n",
    "* Utiliza una variable duplicado para asignarle el valor del elemento del que queremos encontrar todos sus duplicados.\n",
    "* El programa debe devolver todos los índices de los elementos duplicados.\n",
    "* Aplícalo para encontrar los duplicados de \"un\", \"es\" y \"binario\" de:  \n",
    "\n",
    ">```ejer_3 = [\"Un\", \"árbol\", \"binario\", \"es\", \"una\", \"estructura\", \"de\", \"un\", \"tipo\", \"particular\", \"a\", \"veces\", \"no\", \"es\", \"ni\", \"binario\"]```\n"
   ]
  },
  {
   "cell_type": "code",
   "execution_count": 25,
   "metadata": {
    "id": "cLY9WB7YRWxI"
   },
   "outputs": [
    {
     "name": "stdout",
     "output_type": "stream",
     "text": [
      "La palabra un se encuentra en los índices: [0, 7]\n",
      "La palabra es se encuentra en los índices: [3, 13]\n",
      "La palabra binario se encuentra en los índices: [2, 15]\n"
     ]
    }
   ],
   "source": [
    "ejer_3 = [\"Un\", \"árbol\", \"binario\", \"es\", \"una\", \"estructura\", \"de\", \"un\", \"tipo\", \"particular\", \"a\", \"veces\", \"no\", \"es\", \"ni\", \"binario\"]\n",
    "\n",
    "def encontrar_duplicados(lista, duplicado):\n",
    "    return [i for i, palabra in enumerate(lista) if palabra.lower() == duplicado.lower()]\n",
    "\n",
    "duplicados_a_buscar = [\"un\", \"es\", \"binario\"]\n",
    "\n",
    "duplicados_encontrados = {palabra: encontrar_duplicados(ejer_3, palabra) for palabra in duplicados_a_buscar}\n",
    "\n",
    "for palabra, indices in duplicados_encontrados.items():\n",
    "    print(\"La palabra\", palabra, \"se encuentra en los índices:\", indices)\n"
   ]
  },
  {
   "cell_type": "markdown",
   "metadata": {
    "id": "3WrBd5QaRWxI"
   },
   "source": [
    "## Ejercicio 3\n",
    "1. ¿Cuántas veces se repite el 3 en la siguiente tupla?\n",
    "2. Crea una tupla nueva con los elementos desde la posicion 5 a la 10.\n",
    "3. ¿Cuántos elementos tiene la tupla `ejer_3`?\n",
    "> ```ejer_9 = (3, 20, 3, 47, 19, 3, 29, 45, 67, 78, 90, 3, 3, 5, 2, 4, 7, 9, 4, 2, 4, 3, 3, 4, 6, 7)```"
   ]
  },
  {
   "cell_type": "code",
   "execution_count": 24,
   "metadata": {
    "id": "bkv_R5LYRWxI"
   },
   "outputs": [
    {
     "name": "stdout",
     "output_type": "stream",
     "text": [
      "El número 3 se repite 7 veces.\n",
      "Tupla nueva con elementos del índice 5 al 10: (3, 29, 45, 67, 78, 90)\n",
      "La tupla ejer_9 tiene 26 elementos.\n"
     ]
    }
   ],
   "source": [
    "ejer_9 = (3, 20, 3, 47, 19, 3, 29, 45, 67, 78, 90, 3, 3, 5, 2, 4, 7, 9, 4, 2, 4, 3, 3, 4, 6, 7)\n",
    "\n",
    "n3 = ejer_9.count(3)\n",
    "print(\"El número 3 se repite\", n3, \"veces.\")\n",
    "\n",
    "nueva_tupla = ejer_9[5:11]\n",
    "print(\"Tupla nueva con elementos del índice 5 al 10:\", nueva_tupla)\n",
    "\n",
    "long_tupla = len(ejer_9)\n",
    "print(\"La tupla ejer_9 tiene\", long_tupla, \"elementos.\")\n"
   ]
  },
  {
   "cell_type": "markdown",
   "metadata": {
    "id": "6g8Y54AeRWxI"
   },
   "source": [
    "## Ejercicio 4\n",
    "Comprueba si el numero 60 esta en la tupla del ejercicio 3"
   ]
  },
  {
   "cell_type": "code",
   "execution_count": 30,
   "metadata": {
    "id": "F8VTEZonRWxI"
   },
   "outputs": [
    {
     "name": "stdout",
     "output_type": "stream",
     "text": [
      "¿El número 60 está en la tupla del ejercicio 3?: False\n"
     ]
    }
   ],
   "source": [
    "esta_60 = False\n",
    "for elemento in ejer_9:\n",
    "    if elemento == 60:\n",
    "        esta_60 = True\n",
    "        break\n",
    "print(\"¿El número 60 está en la tupla del ejercicio 3?:\", esta_60)"
   ]
  },
  {
   "cell_type": "markdown",
   "metadata": {
    "id": "y0fg-ZA6RWxI"
   },
   "source": [
    "## Ejercicio 5\n",
    "1. Convierte la tupla del ejercicio 3 en una lista\n",
    "2. Convierte la tupla del ejercicio 3 en un set\n",
    "3. Convierte la tupla del ejercicio 3 en un diccionario. Usa también los indices"
   ]
  },
  {
   "cell_type": "code",
   "execution_count": 31,
   "metadata": {
    "id": "_O5hXr01RWxI"
   },
   "outputs": [
    {
     "name": "stdout",
     "output_type": "stream",
     "text": [
      "[3, 20, 3, 47, 19, 3, 29, 45, 67, 78, 90, 3, 3, 5, 2, 4, 7, 9, 4, 2, 4, 3, 3, 4, 6, 7]\n",
      "{2, 3, 67, 5, 4, 7, 6, 9, 45, 78, 47, 19, 20, 90, 29}\n",
      "{0: 3, 1: 20, 2: 3, 3: 47, 4: 19, 5: 3, 6: 29, 7: 45, 8: 67, 9: 78, 10: 90, 11: 3, 12: 3, 13: 5, 14: 2, 15: 4, 16: 7, 17: 9, 18: 4, 19: 2, 20: 4, 21: 3, 22: 3, 23: 4, 24: 6, 25: 7}\n"
     ]
    }
   ],
   "source": [
    "lista = list(ejer_9)\n",
    "print(lista)\n",
    "set_3 = set(ejer_9)\n",
    "print(set_3)\n",
    "diccionario = {i: valor for i, valor in enumerate(ejer_9)}\n",
    "print(diccionario)"
   ]
  },
  {
   "cell_type": "markdown",
   "metadata": {
    "id": "eOdWWbxvRWxJ"
   },
   "source": [
    "## Ejercicio 6\n",
    "Multiplica todos los valores del diccionario\n",
    "> ```ejer_6 = {1: 11, 2: 22, 3: 33, 4: 44, 5: 55}```"
   ]
  },
  {
   "cell_type": "code",
   "execution_count": 33,
   "metadata": {
    "id": "KcuByovKRWxJ"
   },
   "outputs": [
    {
     "name": "stdout",
     "output_type": "stream",
     "text": [
      "El resultado es: 19326120\n"
     ]
    }
   ],
   "source": [
    "ejer_6 = {1: 11, 2: 22, 3: 33, 4: 44, 5: 55}\n",
    "\n",
    "resultado = 1 \n",
    "for valor in ejer_6.values():\n",
    "    resultado *= valor \n",
    "\n",
    "print(\"El resultado es:\", resultado)"
   ]
  },
  {
   "cell_type": "markdown",
   "metadata": {
    "id": "W7TUSaKRRWxJ"
   },
   "source": [
    "## Ejercicio 7\n",
    "\n",
    "1. Crea un diccionario que describa un libro, con los siguientes campos o claves: \"titulo\",\"autor\",\"idioma original\",\"año de publicación\".\n",
    "2. Crea un a lista, llamada librería.\n",
    "3. Añade cuatro libros a tu elección a la librería."
   ]
  },
  {
   "cell_type": "code",
   "execution_count": 34,
   "metadata": {
    "id": "d-IMRvxRRWxJ",
    "vscode": {
     "languageId": "plaintext"
    }
   },
   "outputs": [
    {
     "name": "stdout",
     "output_type": "stream",
     "text": [
      "{'titulo': 'El Gran Comienzo', 'autor': 'Yo mismo', 'idioma original': 'Español', 'año de publicación': 2002}\n",
      "{'titulo': 'Un Nuevo Surgir', 'autor': 'También yo', 'idioma original': 'Canario', 'año de publicación': 20022}\n",
      "{'titulo': 'La Caída del Caballero Blanco', 'autor': 'Plazza', 'idioma original': 'Español', 'año de publicación': 2023}\n",
      "{'titulo': 'La apariciónn de un nuevo Héroe', 'autor': 'Alejandro', 'idioma original': 'Conquense', 'año de publicación': 2026}\n"
     ]
    }
   ],
   "source": [
    "libro1 = {\n",
    "    \"titulo\": \"El Gran Comienzo\",\n",
    "    \"autor\": \"Yo mismo\",\n",
    "    \"idioma original\": \"Español\",\n",
    "    \"año de publicación\": 2002\n",
    "}\n",
    "\n",
    "libro2 = {\n",
    "    \"titulo\": \"Un Nuevo Surgir\",\n",
    "    \"autor\": \"También yo\",\n",
    "    \"idioma original\": \"Canario\",\n",
    "    \"año de publicación\": 20022\n",
    "}\n",
    "\n",
    "libro3 = {\n",
    "    \"titulo\": \"La Caída del Caballero Blanco\",\n",
    "    \"autor\": \"Plazza\",\n",
    "    \"idioma original\": \"Español\",\n",
    "    \"año de publicación\": 2023\n",
    "}\n",
    "\n",
    "libro4 = {\n",
    "    \"titulo\": \"La apariciónn de un nuevo Héroe\",\n",
    "    \"autor\": \"Alejandro\",\n",
    "    \"idioma original\": \"Conquense\",\n",
    "    \"año de publicación\": 2026\n",
    "}\n",
    "\n",
    "libreria = [libro1, libro2, libro3, libro4]\n",
    "\n",
    "for libro in libreria:\n",
    "    print(libro)"
   ]
  },
  {
   "cell_type": "markdown",
   "metadata": {
    "id": "glMoedjYRWxJ"
   },
   "source": [
    "## Ejercicio 8\n",
    "Modifica los valores del idioma de todos los libros del ejercicio anterior para que sea \"esperanto\"\n"
   ]
  },
  {
   "cell_type": "code",
   "execution_count": 35,
   "metadata": {
    "id": "veNdC-uwRWxJ"
   },
   "outputs": [
    {
     "name": "stdout",
     "output_type": "stream",
     "text": [
      "{'titulo': 'El Gran Comienzo', 'autor': 'Yo mismo', 'idioma original': 'Esperanto', 'año de publicación': 2002}\n",
      "{'titulo': 'Un Nuevo Surgir', 'autor': 'También yo', 'idioma original': 'Esperanto', 'año de publicación': 20022}\n",
      "{'titulo': 'La Caída del Caballero Blanco', 'autor': 'Plazza', 'idioma original': 'Esperanto', 'año de publicación': 2023}\n",
      "{'titulo': 'La apariciónn de un nuevo Héroe', 'autor': 'Alejandro', 'idioma original': 'Esperanto', 'año de publicación': 2026}\n"
     ]
    }
   ],
   "source": [
    "for libro in libreria:\n",
    "    libro[\"idioma original\"] = \"Esperanto\"\n",
    "\n",
    "for libro in libreria:\n",
    "    print(libro)"
   ]
  },
  {
   "cell_type": "markdown",
   "metadata": {
    "id": "DRCJG04KRWxJ"
   },
   "source": [
    "## Ejercicio 9\n",
    "1. Escribe un programa que dada una variable titulo busque los libros que hay en la librería con ese título. Si no se encuentra debe devolver el mensaje `Ese no lo tengo, ¿mola?`\n",
    "2. Pruena que el programa con uno de tus libros y con otro que no contenga tu librería."
   ]
  },
  {
   "cell_type": "code",
   "execution_count": 40,
   "metadata": {
    "id": "eWHdJi9BRWxJ"
   },
   "outputs": [
    {
     "name": "stdout",
     "output_type": "stream",
     "text": [
      "{'titulo': 'La Caída del Caballero Blanco', 'autor': 'Plazza', 'idioma original': 'Esperanto', 'año de publicación': 2023}\n",
      "Ese no lo tengo, ¿mola?\n"
     ]
    }
   ],
   "source": [
    "def buscar_libro(titulo):\n",
    "    for libro in libreria:\n",
    "        if libro[\"titulo\"] == titulo:\n",
    "            print(libro)\n",
    "            return\n",
    "    print(\"Ese no lo tengo, ¿mola?\")\n",
    "\n",
    "buscar_libro(\"La Caída del Caballero Blanco\")\n",
    "buscar_libro(\"Cáceres\")"
   ]
  },
  {
   "cell_type": "markdown",
   "metadata": {
    "id": "17YOpYuFRWxJ"
   },
   "source": [
    "## Ejercicio 10\n",
    "Convierte el programa del ejercicio 2 en una función al que se le pase el valor a buscar como un argumento posicional"
   ]
  },
  {
   "cell_type": "code",
   "execution_count": 43,
   "metadata": {
    "id": "xbj0LgvnRWxJ"
   },
   "outputs": [
    {
     "name": "stdout",
     "output_type": "stream",
     "text": [
      "La palabra un se encuentra en los índices: [0, 7]\n",
      "La palabra es se encuentra en los índices: [3, 13]\n",
      "La palabra binario se encuentra en los índices: [2, 15]\n"
     ]
    }
   ],
   "source": [
    "def buscar_duplicados_en_lista(lista, *duplicados_a_buscar):\n",
    "    for palabra in duplicados_a_buscar:\n",
    "        indices = [i for i, palabra_lista in enumerate(lista) if palabra_lista.lower() == palabra.lower()]\n",
    "        print(\"La palabra\", palabra, \"se encuentra en los índices:\", indices)\n",
    "buscar_duplicados_en_lista(ejer_3, \"un\", \"es\", \"binario\")"
   ]
  },
  {
   "cell_type": "markdown",
   "metadata": {
    "id": "xZ-sWJxPRWxJ"
   },
   "source": [
    "## Ejercicio 11\n",
    "Convierte el programa del ejercicio 9 en una función al que se le pasen como argumentos la librería, posicional, y el título, argumento keyword con valor \"ninguno\", por defecto."
   ]
  },
  {
   "cell_type": "code",
   "execution_count": 49,
   "metadata": {
    "id": "4-JrsMdNRWxK"
   },
   "outputs": [
    {
     "name": "stdout",
     "output_type": "stream",
     "text": [
      "{'titulo': 'La Caída del Caballero Blanco', 'autor': 'Plazza', 'idioma original': 'Esperanto', 'año de publicación': 2023}\n",
      "Ese no lo tengo, ¿mola?\n"
     ]
    }
   ],
   "source": [
    "def buscar_libro(libreria, *, titulo = False):\n",
    "    encontrado = False\n",
    "    for libro in libreria:\n",
    "        if libro[\"titulo\"].lower() == titulo.lower():\n",
    "            print(libro)\n",
    "            encontrado = True\n",
    "            break\n",
    "    \n",
    "    else:\n",
    "        print(\"Ese no lo tengo, ¿mola?\")\n",
    "\n",
    "buscar_libro(libreria, titulo=\"La Caída del Caballero Blanco\")\n",
    "buscar_libro(libreria, titulo=\"El Viaje del Héroe\")"
   ]
  },
  {
   "cell_type": "markdown",
   "metadata": {
    "id": "FtJir95QRWxK"
   },
   "source": [
    "## Ejercicio 12\n",
    "Solicitar al usuario que ingrese su dirección email. Imprimir un mensaje indicando si la dirección es válida o no, valiéndose de una función para decidirlo. Una dirección se considerará válida si contiene el símbolo \"@\"."
   ]
  },
  {
   "cell_type": "code",
   "execution_count": 55,
   "metadata": {
    "id": "sk852IZ8RWxK"
   },
   "outputs": [
    {
     "name": "stdin",
     "output_type": "stream",
     "text": [
      "Por favor, ingrese su dirección de email:  dasdasd@gmail.com\n"
     ]
    },
    {
     "name": "stdout",
     "output_type": "stream",
     "text": [
      "La dirección de email es válida.\n"
     ]
    }
   ],
   "source": [
    "def es_email_valido(email):\n",
    "    return \"@\" in email\n",
    "\n",
    "email_usuario = input(\"Por favor, ingrese su dirección de email: \")\n",
    "if es_email_valido(email_usuario):\n",
    "    print(\"La dirección de email es válida.\")\n",
    "else:\n",
    "    print(\"La dirección de email no es válida.\")"
   ]
  },
  {
   "cell_type": "markdown",
   "metadata": {
    "id": "Kw1MWBwBRWxK"
   },
   "source": [
    "## Ejercicio 13\n",
    "Escribe una función que compruebe si un DNI es válido, devolviendo `True` en caso afirmativo.  \n",
    "En primer lugar, el DNI debe tener entre 7 y 8 dígitos numéricos.  \n",
    "Para saber si la letra del DNI es correcta puedes utilizar el siguiente fragmento de código:\n",
    ">```Python\n",
    ">DNI= 55555555\n",
    ">palabra='TRWAGMYFPDXBNJZSQVHLCKE'\n",
    ">print('La letra del DNI es: ', palabra[DNI%23])\n",
    ">````\n"
   ]
  },
  {
   "cell_type": "code",
   "execution_count": null,
   "metadata": {
    "id": "F5Z9rSHqRWxK"
   },
   "outputs": [],
   "source": []
  }
 ],
 "metadata": {
  "colab": {
   "provenance": []
  },
  "kernelspec": {
   "display_name": "Python 3 (ipykernel)",
   "language": "python",
   "name": "python3"
  },
  "language_info": {
   "codemirror_mode": {
    "name": "ipython",
    "version": 3
   },
   "file_extension": ".py",
   "mimetype": "text/x-python",
   "name": "python",
   "nbconvert_exporter": "python",
   "pygments_lexer": "ipython3",
   "version": "3.13.2"
  }
 },
 "nbformat": 4,
 "nbformat_minor": 4
}
